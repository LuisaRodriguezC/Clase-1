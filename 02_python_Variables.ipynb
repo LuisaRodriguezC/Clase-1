{
  "nbformat": 4,
  "nbformat_minor": 0,
  "metadata": {
    "colab": {
      "provenance": [],
      "authorship_tag": "ABX9TyPYZKzKyvsZMXfExY4GVKzv",
      "include_colab_link": true
    },
    "kernelspec": {
      "name": "python3",
      "display_name": "Python 3"
    },
    "language_info": {
      "name": "python"
    }
  },
  "cells": [
    {
      "cell_type": "markdown",
      "metadata": {
        "id": "view-in-github",
        "colab_type": "text"
      },
      "source": [
        "<a href=\"https://colab.research.google.com/github/LuisaRodriguezC/Clase-1/blob/main/02_python_Variables.ipynb\" target=\"_parent\"><img src=\"https://colab.research.google.com/assets/colab-badge.svg\" alt=\"Open In Colab\"/></a>"
      ]
    },
    {
      "cell_type": "markdown",
      "source": [
        "# **1. What is a variable?**\n",
        "\n",
        "Avariable is a ´container´, in the sense that it stores values"
      ],
      "metadata": {
        "id": "syuzlD0ExQ3y"
      }
    },
    {
      "cell_type": "code",
      "source": [
        "# Example \n",
        "\n",
        "a = 2.57\n",
        "print (a)"
      ],
      "metadata": {
        "colab": {
          "base_uri": "https://localhost:8080/"
        },
        "id": "Am9IcKghxT3O",
        "outputId": "375c1467-e9b7-46bd-f409-1393802f3976"
      },
      "execution_count": 4,
      "outputs": [
        {
          "output_type": "stream",
          "name": "stdout",
          "text": [
            "2.57\n"
          ]
        }
      ]
    },
    {
      "cell_type": "code",
      "source": [
        "#Example\n",
        "num = 8.53214794\n",
        "pi = 0\n",
        "pf = 7\n",
        "print('the approximation of', num,'with:')\n",
        "print('Decimal','result')\n",
        "for i in range (pi,pf+1): \n",
        "  print(i,'\\t', round(num,i))\n"
      ],
      "metadata": {
        "colab": {
          "base_uri": "https://localhost:8080/"
        },
        "id": "ZJHH1oeaxjPd",
        "outputId": "00248450-294b-4fd7-b73f-854420d8b669"
      },
      "execution_count": 8,
      "outputs": [
        {
          "output_type": "stream",
          "name": "stdout",
          "text": [
            "the approximation of 8.53214794 with:\n",
            "Decimal result\n",
            "0 \t 9.0\n",
            "1 \t 8.5\n",
            "2 \t 8.53\n",
            "3 \t 8.532\n",
            "4 \t 8.5321\n",
            "5 \t 8.53215\n",
            "6 \t 8.532148\n",
            "7 \t 8.5321479\n"
          ]
        }
      ]
    },
    {
      "cell_type": "code",
      "source": [],
      "metadata": {
        "id": "Scv6FTYnzH7Q"
      },
      "execution_count": null,
      "outputs": []
    }
  ]
}