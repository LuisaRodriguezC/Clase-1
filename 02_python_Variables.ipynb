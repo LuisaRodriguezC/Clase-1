{
  "nbformat": 4,
  "nbformat_minor": 0,
  "metadata": {
    "colab": {
      "provenance": [],
      "authorship_tag": "ABX9TyP1EZNxSJz/UDhQN6pI7VUl",
      "include_colab_link": true
    },
    "kernelspec": {
      "name": "python3",
      "display_name": "Python 3"
    },
    "language_info": {
      "name": "python"
    }
  },
  "cells": [
    {
      "cell_type": "markdown",
      "metadata": {
        "id": "view-in-github",
        "colab_type": "text"
      },
      "source": [
        "<a href=\"https://colab.research.google.com/github/LuisaRodriguezC/Clase-1/blob/main/02_python_Variables.ipynb\" target=\"_parent\"><img src=\"https://colab.research.google.com/assets/colab-badge.svg\" alt=\"Open In Colab\"/></a>"
      ]
    },
    {
      "cell_type": "markdown",
      "source": [
        "# **1. What is a variable?**\n",
        "\n",
        "Avariable is a ´container´, in the sense that it stores values"
      ],
      "metadata": {
        "id": "syuzlD0ExQ3y"
      }
    },
    {
      "cell_type": "code",
      "source": [
        "# Example \n",
        "\n",
        "a = 2.57\n",
        "print (a)"
      ],
      "metadata": {
        "colab": {
          "base_uri": "https://localhost:8080/"
        },
        "id": "Am9IcKghxT3O",
        "outputId": "375c1467-e9b7-46bd-f409-1393802f3976"
      },
      "execution_count": null,
      "outputs": [
        {
          "output_type": "stream",
          "name": "stdout",
          "text": [
            "2.57\n"
          ]
        }
      ]
    },
    {
      "cell_type": "code",
      "source": [
        "#Example\n",
        "num = 8.53214794\n",
        "pi = 0\n",
        "pf = 7\n",
        "print('the approximation of', num,'with:')\n",
        "print('Decimal','result')\n",
        "for i in range (pi,pf+1): \n",
        "  print(i,'\\t', round(num,i))\n"
      ],
      "metadata": {
        "colab": {
          "base_uri": "https://localhost:8080/"
        },
        "id": "ZJHH1oeaxjPd",
        "outputId": "56549fe1-85ea-42e4-885c-e64796a6be21"
      },
      "execution_count": null,
      "outputs": [
        {
          "output_type": "stream",
          "name": "stdout",
          "text": [
            "the approximation of 8.53214794 with:\n",
            "Decimal result\n",
            "0 \t 9.0\n",
            "1 \t 8.5\n",
            "2 \t 8.53\n",
            "3 \t 8.532\n",
            "4 \t 8.5321\n",
            "5 \t 8.53215\n",
            "6 \t 8.532148\n",
            "7 \t 8.5321479\n"
          ]
        }
      ]
    },
    {
      "cell_type": "code",
      "source": [
        "# Example\n",
        "\n",
        "x = y = z = 45\n",
        "print(x,y,z)"
      ],
      "metadata": {
        "id": "Scv6FTYnzH7Q",
        "colab": {
          "base_uri": "https://localhost:8080/"
        },
        "outputId": "dea0c9fc-bd11-41e6-9cc4-44082abfac1c"
      },
      "execution_count": null,
      "outputs": [
        {
          "output_type": "stream",
          "name": "stdout",
          "text": [
            "45 45 45\n"
          ]
        }
      ]
    },
    {
      "cell_type": "code",
      "source": [
        "# Examplr - replace values\n",
        "\n",
        "z = 17"
      ],
      "metadata": {
        "id": "3A4_ZKcdpHe-"
      },
      "execution_count": null,
      "outputs": []
    },
    {
      "cell_type": "markdown",
      "source": [
        "# **3. Delete and Clear**"
      ],
      "metadata": {
        "id": "bGW2OroypgBx"
      }
    },
    {
      "cell_type": "code",
      "source": [
        "# Example - delete\n",
        "\n",
        "del x, y"
      ],
      "metadata": {
        "id": "YeYYS_11phDx"
      },
      "execution_count": null,
      "outputs": []
    },
    {
      "cell_type": "code",
      "source": [
        "# Example - clear\n",
        "\n",
        "%reset"
      ],
      "metadata": {
        "colab": {
          "base_uri": "https://localhost:8080/"
        },
        "id": "dXdsTwjEp_pC",
        "outputId": "c9df5571-ac59-469b-99be-c4c3bb8081f3"
      },
      "execution_count": null,
      "outputs": [
        {
          "name": "stdout",
          "output_type": "stream",
          "text": [
            "Once deleted, variables cannot be recovered. Proceed (y/[n])? y\n"
          ]
        }
      ]
    },
    {
      "cell_type": "markdown",
      "source": [
        "# **4. Naming**"
      ],
      "metadata": {
        "id": "O_HIkRjaqafC"
      }
    },
    {
      "cell_type": "markdown",
      "source": [
        "## 4.1. Conditions and restictions"
      ],
      "metadata": {
        "id": "ZvaD1nw3qhk3"
      }
    },
    {
      "cell_type": "code",
      "source": [
        "# Example - always a name of variable must star with a letter\n",
        "\n",
        "age = 18"
      ],
      "metadata": {
        "id": "XAD1CdZZqaDN"
      },
      "execution_count": null,
      "outputs": []
    },
    {
      "cell_type": "markdown",
      "source": [
        "## 4.2. Bets practices\n",
        "\n",
        "* Case sentive"
      ],
      "metadata": {
        "id": "vaSgLFqtrMXC"
      }
    },
    {
      "cell_type": "code",
      "source": [
        "# Example \n",
        "\n",
        "Age = 78\n",
        "AGE = 23\n",
        "\n",
        "# Sug: always use lower case. "
      ],
      "metadata": {
        "id": "WQq0JAZzrV2y"
      },
      "execution_count": null,
      "outputs": []
    },
    {
      "cell_type": "markdown",
      "source": [
        "* Compound name"
      ],
      "metadata": {
        "id": "jObWqo5wryJD"
      }
    },
    {
      "cell_type": "code",
      "source": [
        "# Example \n",
        "\n",
        "price_jean = 150000\n"
      ],
      "metadata": {
        "id": "_cOZCUidr168"
      },
      "execution_count": null,
      "outputs": []
    },
    {
      "cell_type": "markdown",
      "source": [
        "# **5. Data types**"
      ],
      "metadata": {
        "id": "wvbCz1lSscwI"
      }
    },
    {
      "cell_type": "markdown",
      "source": [
        "## 5.1. Integers"
      ],
      "metadata": {
        "id": "icX5K8Wmsq7J"
      }
    },
    {
      "cell_type": "markdown",
      "source": [
        "## 5.2. Float"
      ],
      "metadata": {
        "id": "FwNHPMrssvQS"
      }
    },
    {
      "cell_type": "markdown",
      "source": [
        "**Parenthesis:** A trick"
      ],
      "metadata": {
        "id": "5_8iebcss0MJ"
      }
    },
    {
      "cell_type": "code",
      "source": [
        "# Example - set up\n",
        "\n",
        "w = 0"
      ],
      "metadata": {
        "id": "N8U1PExns7Tw"
      },
      "execution_count": null,
      "outputs": []
    },
    {
      "cell_type": "code",
      "source": [
        "# Example\n",
        "\n",
        "w +=1\n",
        "print(w)"
      ],
      "metadata": {
        "colab": {
          "base_uri": "https://localhost:8080/"
        },
        "id": "Flb5wQu9tEc_",
        "outputId": "df0f8351-f355-4dc6-f813-074914975c89"
      },
      "execution_count": null,
      "outputs": [
        {
          "output_type": "stream",
          "name": "stdout",
          "text": [
            "12\n"
          ]
        }
      ]
    },
    {
      "cell_type": "markdown",
      "source": [
        "# 5.3. Text"
      ],
      "metadata": {
        "id": "qjiEV2xttr9S"
      }
    },
    {
      "cell_type": "code",
      "source": [
        "# Example \n",
        "\n",
        "name = 'Universidad de la Salle'\n",
        "print(name)"
      ],
      "metadata": {
        "colab": {
          "base_uri": "https://localhost:8080/"
        },
        "id": "_tUXg8YztvTa",
        "outputId": "f67c6a03-1a9f-4e37-ad29-62d641d6e677"
      },
      "execution_count": null,
      "outputs": [
        {
          "output_type": "stream",
          "name": "stdout",
          "text": [
            "Universidad de la Salle\n"
          ]
        }
      ]
    },
    {
      "cell_type": "code",
      "source": [
        "name[1]"
      ],
      "metadata": {
        "colab": {
          "base_uri": "https://localhost:8080/",
          "height": 35
        },
        "id": "NKTtiEi-uN5c",
        "outputId": "d2e48f27-cc6a-4577-feaf-cae7565edf5c"
      },
      "execution_count": null,
      "outputs": [
        {
          "output_type": "execute_result",
          "data": {
            "text/plain": [
              "'n'"
            ],
            "application/vnd.google.colaboratory.intrinsic+json": {
              "type": "string"
            }
          },
          "metadata": {},
          "execution_count": 5
        }
      ]
    },
    {
      "cell_type": "code",
      "source": [
        "name[5]"
      ],
      "metadata": {
        "colab": {
          "base_uri": "https://localhost:8080/",
          "height": 35
        },
        "id": "mYa8dUjKuouP",
        "outputId": "05e6c319-2e5b-4a06-9a1a-d39d943484b4"
      },
      "execution_count": null,
      "outputs": [
        {
          "output_type": "execute_result",
          "data": {
            "text/plain": [
              "'r'"
            ],
            "application/vnd.google.colaboratory.intrinsic+json": {
              "type": "string"
            }
          },
          "metadata": {},
          "execution_count": 11
        }
      ]
    },
    {
      "cell_type": "code",
      "source": [
        "name[0:11]"
      ],
      "metadata": {
        "colab": {
          "base_uri": "https://localhost:8080/",
          "height": 35
        },
        "id": "5rcl47LSpcRB",
        "outputId": "2f51a1f5-eb73-487b-f595-e4b66936c8ae"
      },
      "execution_count": null,
      "outputs": [
        {
          "output_type": "execute_result",
          "data": {
            "text/plain": [
              "'Universidad'"
            ],
            "application/vnd.google.colaboratory.intrinsic+json": {
              "type": "string"
            }
          },
          "metadata": {},
          "execution_count": 20
        }
      ]
    },
    {
      "cell_type": "code",
      "source": [
        "name.split()"
      ],
      "metadata": {
        "colab": {
          "base_uri": "https://localhost:8080/"
        },
        "id": "YdN1hXUVu7fg",
        "outputId": "0c2d5097-eebc-4e78-8b44-8481624115c1"
      },
      "execution_count": null,
      "outputs": [
        {
          "output_type": "execute_result",
          "data": {
            "text/plain": [
              "['Universidad', 'de', 'la', 'Salle']"
            ]
          },
          "metadata": {},
          "execution_count": 23
        }
      ]
    },
    {
      "cell_type": "markdown",
      "source": [
        "## 5.4 Boolaens \n"
      ],
      "metadata": {
        "id": "4LbHKHhwrKja"
      }
    },
    {
      "cell_type": "markdown",
      "source": [
        "these strings variables but with a very specific text **True** or **False**\n",
        "\n"
      ],
      "metadata": {
        "id": "vVpqBkZErL7p"
      }
    },
    {
      "cell_type": "code",
      "source": [
        "# Example \n",
        "raining = False \n",
        "daytime = True \n",
        "raining  = daytime "
      ],
      "metadata": {
        "id": "PEbvEr8fre18"
      },
      "execution_count": 5,
      "outputs": []
    },
    {
      "cell_type": "markdown",
      "source": [
        "## **BOOLEAN EXPRESSIONS**"
      ],
      "metadata": {
        "id": "RTtLsonvs5Ex"
      }
    },
    {
      "cell_type": "code",
      "source": [
        "# Example \n",
        "\n",
        "x = 5\n",
        "\n",
        "y = 7\n",
        "\n",
        "print('is x equal to y', x ==y)\n",
        "print('is x less than y', x < y)\n",
        "print('is x greater than y', x > y)\n",
        "print('is x NOT equal y', x != y)"
      ],
      "metadata": {
        "colab": {
          "base_uri": "https://localhost:8080/"
        },
        "id": "kmYiE0w6tZ0r",
        "outputId": "1dd9a5df-63b1-4067-f8fe-d64fbec02c79"
      },
      "execution_count": 8,
      "outputs": [
        {
          "output_type": "stream",
          "name": "stdout",
          "text": [
            "is x equal to y False\n",
            "is x less than y True\n",
            "is x greater than y False\n",
            "is x NOT equal y True\n"
          ]
        }
      ]
    }
  ]
}