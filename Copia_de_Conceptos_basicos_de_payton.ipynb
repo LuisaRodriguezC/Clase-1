{
  "nbformat": 4,
  "nbformat_minor": 0,
  "metadata": {
    "colab": {
      "provenance": [],
      "authorship_tag": "ABX9TyOEJEX3XEA1UHqU0kPAkuem",
      "include_colab_link": true
    },
    "kernelspec": {
      "name": "python3",
      "display_name": "Python 3"
    },
    "language_info": {
      "name": "python"
    }
  },
  "cells": [
    {
      "cell_type": "markdown",
      "metadata": {
        "id": "view-in-github",
        "colab_type": "text"
      },
      "source": [
        "<a href=\"https://colab.research.google.com/github/LuisaRodriguezC/Clase-1/blob/main/Copia_de_Conceptos_basicos_de_payton.ipynb\" target=\"_parent\"><img src=\"https://colab.research.google.com/assets/colab-badge.svg\" alt=\"Open In Colab\"/></a>"
      ]
    },
    {
      "cell_type": "code",
      "execution_count": null,
      "metadata": {
        "id": "lbdbVfNwjw1Y"
      },
      "outputs": [],
      "source": []
    },
    {
      "cell_type": "markdown",
      "source": [
        "# Introduccion \n",
        "\n",
        "Here, in this file, we are going to \"code\"\n",
        "We are going to understand python, how it works, and some tricks"
      ],
      "metadata": {
        "id": "bjE9X6hLkQ2a"
      }
    },
    {
      "cell_type": "markdown",
      "source": [
        "# 1. What is python?\n",
        "\n",
        "It was created in 1991 and it is a **general-purposue progaming language**\n",
        "\n",
        "This means that python is used for:\n",
        "*Data analysis \n",
        "*Automating task\n",
        "*Machinne learning\n",
        "*Data Visualization \n",
        "*Optimazation \n",
        "*Web development \n",
        "*User interfaces creation \n",
        "*Create another sofware\n",
        "*Create video games \n",
        "\n",
        "The world runs on python, C++, Java and HTLM / CSS, and R? \n"
      ],
      "metadata": {
        "id": "0Sk76yTpkicp"
      }
    },
    {
      "cell_type": "markdown",
      "source": [
        "# 2. Why python?\n",
        "\n",
        "The main reasons: \n",
        "\n",
        "* It is simple \n",
        "\n",
        "* Focus \n",
        "\n",
        "* Easy to learn \n",
        "\n",
        "* Open - source: it is free\n",
        "\n",
        "* Cross-platforn\n",
        "\n",
        "* Extensive libraries\n"
      ],
      "metadata": {
        "id": "npPJnFqulsov"
      }
    },
    {
      "cell_type": "markdown",
      "source": [
        "# 3. Getting Started"
      ],
      "metadata": {
        "id": "LzNlIlSMmxRX"
      }
    },
    {
      "cell_type": "markdown",
      "source": [
        "## 3.1 Python as a calculator "
      ],
      "metadata": {
        "id": "LZUtbZHJnRSe"
      }
    },
    {
      "cell_type": "code",
      "source": [
        "# Addition \n",
        "2 + 2"
      ],
      "metadata": {
        "colab": {
          "base_uri": "https://localhost:8080/"
        },
        "id": "U5XKejgqngJF",
        "outputId": "9b98c2cc-d1e6-4a34-bb31-ecd3a3e061c9"
      },
      "execution_count": null,
      "outputs": [
        {
          "output_type": "execute_result",
          "data": {
            "text/plain": [
              "4"
            ]
          },
          "metadata": {},
          "execution_count": 2
        }
      ]
    },
    {
      "cell_type": "code",
      "source": [
        "# Subtraction \n",
        "23-7"
      ],
      "metadata": {
        "colab": {
          "base_uri": "https://localhost:8080/"
        },
        "id": "JA-gcA13oHE5",
        "outputId": "9d395c6b-59c5-44d8-89d6-abbe1287e10e"
      },
      "execution_count": null,
      "outputs": [
        {
          "output_type": "execute_result",
          "data": {
            "text/plain": [
              "16"
            ]
          },
          "metadata": {},
          "execution_count": 3
        }
      ]
    },
    {
      "cell_type": "code",
      "source": [
        "# Multiplication \n",
        "13*7"
      ],
      "metadata": {
        "colab": {
          "base_uri": "https://localhost:8080/"
        },
        "id": "AsaTn_BgosvR",
        "outputId": "cf647f74-45c9-43f8-accc-67b81485519f"
      },
      "execution_count": null,
      "outputs": [
        {
          "output_type": "execute_result",
          "data": {
            "text/plain": [
              "91"
            ]
          },
          "metadata": {},
          "execution_count": 4
        }
      ]
    },
    {
      "cell_type": "code",
      "source": [
        "# Division \n",
        "10/3"
      ],
      "metadata": {
        "colab": {
          "base_uri": "https://localhost:8080/"
        },
        "id": "ipiaNF5bo1Is",
        "outputId": "fd998ece-1b00-410a-cd17-5734f57479b8"
      },
      "execution_count": null,
      "outputs": [
        {
          "output_type": "execute_result",
          "data": {
            "text/plain": [
              "3.3333333333333335"
            ]
          },
          "metadata": {},
          "execution_count": 5
        }
      ]
    },
    {
      "cell_type": "code",
      "source": [
        "# Interger Division \n",
        "10//3"
      ],
      "metadata": {
        "colab": {
          "base_uri": "https://localhost:8080/"
        },
        "id": "M2nsp2doo6tZ",
        "outputId": "3521b95c-1cea-40c1-f81a-6959832b939e"
      },
      "execution_count": null,
      "outputs": [
        {
          "output_type": "execute_result",
          "data": {
            "text/plain": [
              "3"
            ]
          },
          "metadata": {},
          "execution_count": 6
        }
      ]
    },
    {
      "cell_type": "code",
      "source": [
        "# Exponential\n",
        "2**3"
      ],
      "metadata": {
        "colab": {
          "base_uri": "https://localhost:8080/"
        },
        "id": "HPoKEPmthb4_",
        "outputId": "6bbfbb11-4328-47a3-bbad-7c0b766b0c8c"
      },
      "execution_count": null,
      "outputs": [
        {
          "output_type": "execute_result",
          "data": {
            "text/plain": [
              "8"
            ]
          },
          "metadata": {},
          "execution_count": 1
        }
      ]
    },
    {
      "cell_type": "markdown",
      "source": [
        "## 3.2. Composite operations and parenthesis\n",
        "\n",
        "Operator precedence\n"
      ],
      "metadata": {
        "id": "wypN30bfh1Fq"
      }
    },
    {
      "cell_type": "code",
      "source": [
        "# Example \n",
        "2 + 3*4"
      ],
      "metadata": {
        "colab": {
          "base_uri": "https://localhost:8080/"
        },
        "id": "o7p3Wh4ViBJc",
        "outputId": "67af7f12-3abe-41ce-a688-754fa4ccdb53"
      },
      "execution_count": null,
      "outputs": [
        {
          "output_type": "execute_result",
          "data": {
            "text/plain": [
              "14"
            ]
          },
          "metadata": {},
          "execution_count": 2
        }
      ]
    },
    {
      "cell_type": "markdown",
      "source": [
        "You can change the operator precedence using **parenthesis**"
      ],
      "metadata": {
        "id": "dkQ81mLtiO8t"
      }
    },
    {
      "cell_type": "code",
      "source": [
        "# Example \n",
        "(2 + 3)*4"
      ],
      "metadata": {
        "colab": {
          "base_uri": "https://localhost:8080/"
        },
        "id": "SsvrkqVeiYvG",
        "outputId": "f1492aae-ba9d-4b9d-9cb7-4dcde4e81aab"
      },
      "execution_count": null,
      "outputs": [
        {
          "output_type": "execute_result",
          "data": {
            "text/plain": [
              "20"
            ]
          },
          "metadata": {},
          "execution_count": 3
        }
      ]
    },
    {
      "cell_type": "markdown",
      "source": [
        "## 3.3. Integers and Real Numbers \n",
        "\n"
      ],
      "metadata": {
        "id": "jUc5Mdf3itNo"
      }
    },
    {
      "cell_type": "code",
      "source": [
        "# Interger (with no decimal positions)\n",
        "type(26)"
      ],
      "metadata": {
        "colab": {
          "base_uri": "https://localhost:8080/"
        },
        "id": "QRncXL-Ajpwu",
        "outputId": "639547e8-3915-4533-a293-5d94379ffd98"
      },
      "execution_count": null,
      "outputs": [
        {
          "output_type": "execute_result",
          "data": {
            "text/plain": [
              "int"
            ]
          },
          "metadata": {},
          "execution_count": 4
        }
      ]
    },
    {
      "cell_type": "code",
      "source": [
        "# Real numeber (whith decimal positions)\n",
        "type(26.0)"
      ],
      "metadata": {
        "colab": {
          "base_uri": "https://localhost:8080/"
        },
        "id": "XOy6I4x6j9se",
        "outputId": "b849cb77-07dc-4ca7-8aa9-9c6165b322e7"
      },
      "execution_count": null,
      "outputs": [
        {
          "output_type": "execute_result",
          "data": {
            "text/plain": [
              "float"
            ]
          },
          "metadata": {},
          "execution_count": 5
        }
      ]
    },
    {
      "cell_type": "code",
      "source": [
        "# Examples \n",
        "# Find out if the next expressions are int or floats\n",
        "2 + 3.0\n",
        "2.5*7\n",
        "4.0/2"
      ],
      "metadata": {
        "colab": {
          "base_uri": "https://localhost:8080/"
        },
        "id": "PA-7Hmkpkd38",
        "outputId": "10dea58f-1bc8-41ec-d09b-90d8c95b4f0f"
      },
      "execution_count": null,
      "outputs": [
        {
          "output_type": "execute_result",
          "data": {
            "text/plain": [
              "2.0"
            ]
          },
          "metadata": {},
          "execution_count": 6
        }
      ]
    },
    {
      "cell_type": "code",
      "source": [
        "type(2 + 3.0)"
      ],
      "metadata": {
        "colab": {
          "base_uri": "https://localhost:8080/"
        },
        "id": "_hnMCyM9k-OM",
        "outputId": "0b1cbc81-604a-4990-c3ab-2f96c964a9ad"
      },
      "execution_count": null,
      "outputs": [
        {
          "output_type": "execute_result",
          "data": {
            "text/plain": [
              "float"
            ]
          },
          "metadata": {},
          "execution_count": 9
        }
      ]
    },
    {
      "cell_type": "markdown",
      "source": [
        "# Scientific notation "
      ],
      "metadata": {
        "id": "wXn4vgElmQ_g"
      }
    },
    {
      "cell_type": "code",
      "source": [
        "# Example \n",
        "5e1"
      ],
      "metadata": {
        "colab": {
          "base_uri": "https://localhost:8080/"
        },
        "id": "ozpihp60n8Ek",
        "outputId": "df2481c3-09ae-4979-bf9c-5e2029b3df0f"
      },
      "execution_count": null,
      "outputs": [
        {
          "output_type": "execute_result",
          "data": {
            "text/plain": [
              "50.0"
            ]
          },
          "metadata": {},
          "execution_count": 10
        }
      ]
    },
    {
      "cell_type": "code",
      "source": [
        "6e-2"
      ],
      "metadata": {
        "colab": {
          "base_uri": "https://localhost:8080/"
        },
        "id": "btbochaBoI-2",
        "outputId": "b222a734-6795-4399-9938-e0e30d177b80"
      },
      "execution_count": null,
      "outputs": [
        {
          "output_type": "execute_result",
          "data": {
            "text/plain": [
              "0.06"
            ]
          },
          "metadata": {},
          "execution_count": 11
        }
      ]
    },
    {
      "cell_type": "code",
      "source": [
        "# Practice \n",
        "# Write 1 millon in scientific notation \n",
        "# What is the result of 3e0.2"
      ],
      "metadata": {
        "id": "MO8ifOfVov4n"
      },
      "execution_count": null,
      "outputs": []
    },
    {
      "cell_type": "code",
      "source": [
        "# Write 1 millon in scientific notation \n",
        "1e6"
      ],
      "metadata": {
        "colab": {
          "base_uri": "https://localhost:8080/"
        },
        "id": "M3lXVdkopAnB",
        "outputId": "197ce6c2-977d-4fc2-c1df-3cdd5be95cc5"
      },
      "execution_count": null,
      "outputs": [
        {
          "output_type": "execute_result",
          "data": {
            "text/plain": [
              "1000000.0"
            ]
          },
          "metadata": {},
          "execution_count": 12
        }
      ]
    },
    {
      "cell_type": "code",
      "source": [
        "# What is the result of 3e02\n",
        "3e0.2"
      ],
      "metadata": {
        "colab": {
          "base_uri": "https://localhost:8080/",
          "height": 130
        },
        "id": "bo7mn1d_pS3w",
        "outputId": "b5a78f0e-4296-4f42-fcc0-4a5af0e9633c"
      },
      "execution_count": null,
      "outputs": [
        {
          "output_type": "error",
          "ename": "SyntaxError",
          "evalue": "ignored",
          "traceback": [
            "\u001b[0;36m  File \u001b[0;32m\"<ipython-input-15-2a560b5777e2>\"\u001b[0;36m, line \u001b[0;32m2\u001b[0m\n\u001b[0;31m    3e0.2\u001b[0m\n\u001b[0m       ^\u001b[0m\n\u001b[0;31mSyntaxError\u001b[0m\u001b[0;31m:\u001b[0m invalid syntax\n"
          ]
        }
      ]
    },
    {
      "cell_type": "markdown",
      "source": [
        "### Transformation \n",
        "You can change the type() of a number. Or you can force a type () of a number."
      ],
      "metadata": {
        "id": "QaO7RIjDqN6I"
      }
    },
    {
      "cell_type": "code",
      "source": [
        "# Example \n",
        "float (6)"
      ],
      "metadata": {
        "colab": {
          "base_uri": "https://localhost:8080/"
        },
        "id": "t8al-NhrqNAO",
        "outputId": "e5b8041e-dfa7-4c95-d387-3bc2f9aa0c5c"
      },
      "execution_count": null,
      "outputs": [
        {
          "output_type": "execute_result",
          "data": {
            "text/plain": [
              "6.0"
            ]
          },
          "metadata": {},
          "execution_count": 17
        }
      ]
    },
    {
      "cell_type": "code",
      "source": [
        "# Example }\n",
        "int (3.3333)"
      ],
      "metadata": {
        "colab": {
          "base_uri": "https://localhost:8080/"
        },
        "id": "kRQZfQ3iqpbj",
        "outputId": "77fdf49a-298f-4456-cb80-09b8bdbd8ad9"
      },
      "execution_count": null,
      "outputs": [
        {
          "output_type": "execute_result",
          "data": {
            "text/plain": [
              "3"
            ]
          },
          "metadata": {},
          "execution_count": 18
        }
      ]
    },
    {
      "cell_type": "markdown",
      "source": [
        "# 3.4 Basic and useful functions\n",
        "\n",
        "Functions let us do things more efficiently"
      ],
      "metadata": {
        "id": "CQ2UprKFdZ9c"
      }
    },
    {
      "cell_type": "markdown",
      "source": [
        "**Print**"
      ],
      "metadata": {
        "id": "2pJhbwMzeWoO"
      }
    },
    {
      "cell_type": "code",
      "source": [
        "# Example with numbers\n",
        "\n",
        "print(2023)\n",
        "print(2024)\n",
        "print(22,2,2022)"
      ],
      "metadata": {
        "colab": {
          "base_uri": "https://localhost:8080/"
        },
        "id": "VTbZOGo1eaW1",
        "outputId": "380b9550-25ba-4c3f-dbdf-c157e8d948da"
      },
      "execution_count": 6,
      "outputs": [
        {
          "output_type": "stream",
          "name": "stdout",
          "text": [
            "2023\n",
            "2024\n",
            "22 2 2022\n"
          ]
        }
      ]
    },
    {
      "cell_type": "code",
      "source": [
        "# Example - hard version\n",
        "\n",
        "for i in range(0,11): print(i)"
      ],
      "metadata": {
        "colab": {
          "base_uri": "https://localhost:8080/"
        },
        "id": "ZlMsQuvpem4S",
        "outputId": "d9573228-c19c-4627-f536-5a6c9590dcb7"
      },
      "execution_count": 8,
      "outputs": [
        {
          "output_type": "stream",
          "name": "stdout",
          "text": [
            "0\n",
            "1\n",
            "2\n",
            "3\n",
            "4\n",
            "5\n",
            "6\n",
            "7\n",
            "8\n",
            "9\n",
            "10\n"
          ]
        }
      ]
    },
    {
      "cell_type": "code",
      "source": [
        "# Example - with text\n",
        "\n",
        "print('hello world')\n",
        "print ('First Name: Luisa','Second Name: Rodriguez')\n",
        "print ('First Name: Luisa','\\tSecond Name: Rodriguez')\n",
        "print ('First Name: Luisa','\\nSecond Name: Rodriguez')"
      ],
      "metadata": {
        "colab": {
          "base_uri": "https://localhost:8080/"
        },
        "id": "B_qcTvR7gsKN",
        "outputId": "07ea36ab-8d5e-45f1-b1ab-981ad541da68"
      },
      "execution_count": 11,
      "outputs": [
        {
          "output_type": "stream",
          "name": "stdout",
          "text": [
            "hello world\n",
            "First Name: Luisa Second Name: Rodriguez\n",
            "First Name: Luisa \tSecond Name: Rodriguez\n",
            "First Name: Luisa \n",
            "Second Name: Rodriguez\n"
          ]
        }
      ]
    },
    {
      "cell_type": "code",
      "source": [
        "# Example - test and numbers\n",
        "\n",
        "print('my luckynumber is:', 21)"
      ],
      "metadata": {
        "colab": {
          "base_uri": "https://localhost:8080/"
        },
        "id": "0h4aU7Hjh30N",
        "outputId": "e1bd86cd-7897-4625-f9be-8e2cb57b209d"
      },
      "execution_count": 12,
      "outputs": [
        {
          "output_type": "stream",
          "name": "stdout",
          "text": [
            "my luckynumber is: 21\n"
          ]
        }
      ]
    },
    {
      "cell_type": "markdown",
      "source": [
        "### **Round**\n",
        "\n",
        "it will tle us to control the decimal positions."
      ],
      "metadata": {
        "id": "n0IDZy-TjBX_"
      }
    },
    {
      "cell_type": "code",
      "source": [
        "# Example \n",
        "# Consider 8.53214794\n",
        "# Let´s use round\n",
        "\n",
        "round(8.53214794,0)\n"
      ],
      "metadata": {
        "colab": {
          "base_uri": "https://localhost:8080/"
        },
        "id": "MlEiqQqyjN01",
        "outputId": "59949213-93a5-4a95-9962-48beac9cc2a5"
      },
      "execution_count": 13,
      "outputs": [
        {
          "output_type": "execute_result",
          "data": {
            "text/plain": [
              "9.0"
            ]
          },
          "metadata": {},
          "execution_count": 13
        }
      ]
    },
    {
      "cell_type": "code",
      "source": [
        "# Ejemplo\n",
        "print('the rounded number of 8.5321 is:', 9)"
      ],
      "metadata": {
        "colab": {
          "base_uri": "https://localhost:8080/"
        },
        "id": "wmEvvkxzjwSv",
        "outputId": "73c31fe9-d1c2-4e0b-e960-7d23fb5e1d49"
      },
      "execution_count": 14,
      "outputs": [
        {
          "output_type": "stream",
          "name": "stdout",
          "text": [
            "the rounded number of 8.5321 is: 9\n"
          ]
        }
      ]
    },
    {
      "cell_type": "code",
      "source": [
        "print('the approximation of', 8.53214794,'with', 0, 'decimal is:', round(8.53214794,0))\n",
        "print('the approximation of', 8.53214794,'with', 1, 'decimal is:', round(8.53214794,1))"
      ],
      "metadata": {
        "colab": {
          "base_uri": "https://localhost:8080/"
        },
        "id": "8Mi6BK90kt3Y",
        "outputId": "dc47890c-3fdb-4f26-b9a4-1a6e5838fda4"
      },
      "execution_count": 17,
      "outputs": [
        {
          "output_type": "stream",
          "name": "stdout",
          "text": [
            "the approximation of 8.53214794 with 0 decimal is: 9.0\n",
            "the approximation of 8.53214794 with 1 decimal is: 8.5\n"
          ]
        }
      ]
    },
    {
      "cell_type": "code",
      "source": [
        "print('the approximation of', 8.53214794,'with:')\n",
        "print(0, 'decimal is:', round(8.53214794,0))\n",
        "print(1, 'decimal is:', round(8.53214794,1))"
      ],
      "metadata": {
        "colab": {
          "base_uri": "https://localhost:8080/"
        },
        "id": "G29hj5D0mugI",
        "outputId": "709ce028-d931-4f2f-be36-494ab5901635"
      },
      "execution_count": 18,
      "outputs": [
        {
          "output_type": "stream",
          "name": "stdout",
          "text": [
            "the approximation of 8.53214794 with:\n",
            "0 decimal is: 9.0\n",
            "1 decimal is: 8.5\n"
          ]
        }
      ]
    },
    {
      "cell_type": "code",
      "source": [
        "print('the approximation of', 8.53214794,'with:')\n",
        "print('Decimal','result')\n",
        "print(0, '\\t', round(8.53214794,0))\n",
        "print(1, '\\t', round(8.53214794,1))\n",
        "print(2, '\\t', round(8.53214794,2))\n",
        "print(3, '\\t', round(8.53214794,3))\n",
        "print(4, '\\t', round(8.53214794,4))\n",
        "print(5, '\\t', round(8.53214794,5))\n",
        "print(6, '\\t', round(8.53214794,6))\n",
        "print(7, '\\t', round(8.53214794,7))"
      ],
      "metadata": {
        "colab": {
          "base_uri": "https://localhost:8080/"
        },
        "id": "MEVr3U7InDLg",
        "outputId": "1e43604e-eb86-43a6-de86-4b95412f3ab1"
      },
      "execution_count": 30,
      "outputs": [
        {
          "output_type": "stream",
          "name": "stdout",
          "text": [
            "the approximation of 8.53214794 with:\n",
            "Decimal result\n",
            "0 \t 9.0\n",
            "1 \t 8.5\n",
            "2 \t 8.53\n",
            "3 \t 8.532\n",
            "4 \t 8.5321\n",
            "5 \t 8.53215\n",
            "6 \t 8.532148\n",
            "7 \t 8.5321479\n"
          ]
        }
      ]
    },
    {
      "cell_type": "code",
      "source": [
        "print('the approximation of', 8.53214794,'with:')\n",
        "print('Decimal','result')\n",
        "for i in range (0,8): \n",
        "  print(i,'\\t', round(8.53214794,i))\n"
      ],
      "metadata": {
        "colab": {
          "base_uri": "https://localhost:8080/"
        },
        "id": "MEQXrjYdnOCZ",
        "outputId": "dd607825-ab68-4696-d651-900d50ac21c9"
      },
      "execution_count": 46,
      "outputs": [
        {
          "output_type": "stream",
          "name": "stdout",
          "text": [
            "the approximation of 8.53214794 with:\n",
            "Decimal result\n",
            "0 \t 9.0\n",
            "1 \t 8.5\n",
            "2 \t 8.53\n",
            "3 \t 8.532\n",
            "4 \t 8.5321\n",
            "5 \t 8.53215\n",
            "6 \t 8.532148\n",
            "7 \t 8.5321479\n"
          ]
        }
      ]
    },
    {
      "cell_type": "code",
      "source": [
        "print('multiples of', 2,'with:')\n",
        "for i in range (1,101): \n",
        "    print(i,(2*i))"
      ],
      "metadata": {
        "colab": {
          "base_uri": "https://localhost:8080/"
        },
        "id": "CuSWTbYGqOTV",
        "outputId": "830e583d-c2fc-4a58-e813-30f9d94c0486"
      },
      "execution_count": 55,
      "outputs": [
        {
          "output_type": "stream",
          "name": "stdout",
          "text": [
            "multiples of 2 with:\n",
            "1 2\n",
            "2 4\n",
            "3 6\n",
            "4 8\n",
            "5 10\n",
            "6 12\n",
            "7 14\n",
            "8 16\n",
            "9 18\n",
            "10 20\n",
            "11 22\n",
            "12 24\n",
            "13 26\n",
            "14 28\n",
            "15 30\n",
            "16 32\n",
            "17 34\n",
            "18 36\n",
            "19 38\n",
            "20 40\n",
            "21 42\n",
            "22 44\n",
            "23 46\n",
            "24 48\n",
            "25 50\n",
            "26 52\n",
            "27 54\n",
            "28 56\n",
            "29 58\n",
            "30 60\n",
            "31 62\n",
            "32 64\n",
            "33 66\n",
            "34 68\n",
            "35 70\n",
            "36 72\n",
            "37 74\n",
            "38 76\n",
            "39 78\n",
            "40 80\n",
            "41 82\n",
            "42 84\n",
            "43 86\n",
            "44 88\n",
            "45 90\n",
            "46 92\n",
            "47 94\n",
            "48 96\n",
            "49 98\n",
            "50 100\n",
            "51 102\n",
            "52 104\n",
            "53 106\n",
            "54 108\n",
            "55 110\n",
            "56 112\n",
            "57 114\n",
            "58 116\n",
            "59 118\n",
            "60 120\n",
            "61 122\n",
            "62 124\n",
            "63 126\n",
            "64 128\n",
            "65 130\n",
            "66 132\n",
            "67 134\n",
            "68 136\n",
            "69 138\n",
            "70 140\n",
            "71 142\n",
            "72 144\n",
            "73 146\n",
            "74 148\n",
            "75 150\n",
            "76 152\n",
            "77 154\n",
            "78 156\n",
            "79 158\n",
            "80 160\n",
            "81 162\n",
            "82 164\n",
            "83 166\n",
            "84 168\n",
            "85 170\n",
            "86 172\n",
            "87 174\n",
            "88 176\n",
            "89 178\n",
            "90 180\n",
            "91 182\n",
            "92 184\n",
            "93 186\n",
            "94 188\n",
            "95 190\n",
            "96 192\n",
            "97 194\n",
            "98 196\n",
            "99 198\n",
            "100 200\n"
          ]
        }
      ]
    },
    {
      "cell_type": "code",
      "source": [],
      "metadata": {
        "id": "mOJhTVjWuETZ"
      },
      "execution_count": null,
      "outputs": []
    }
  ]
}