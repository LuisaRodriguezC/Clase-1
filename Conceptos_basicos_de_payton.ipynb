{
  "nbformat": 4,
  "nbformat_minor": 0,
  "metadata": {
    "colab": {
      "provenance": [],
      "authorship_tag": "ABX9TyN8Lyoj8X8Ita/XQMjtiO89",
      "include_colab_link": true
    },
    "kernelspec": {
      "name": "python3",
      "display_name": "Python 3"
    },
    "language_info": {
      "name": "python"
    }
  },
  "cells": [
    {
      "cell_type": "markdown",
      "metadata": {
        "id": "view-in-github",
        "colab_type": "text"
      },
      "source": [
        "<a href=\"https://colab.research.google.com/github/LuisaRodriguezC/Clase-1/blob/main/Conceptos_basicos_de_payton.ipynb\" target=\"_parent\"><img src=\"https://colab.research.google.com/assets/colab-badge.svg\" alt=\"Open In Colab\"/></a>"
      ]
    },
    {
      "cell_type": "code",
      "execution_count": null,
      "metadata": {
        "id": "lbdbVfNwjw1Y"
      },
      "outputs": [],
      "source": []
    },
    {
      "cell_type": "markdown",
      "source": [
        "# Introduccion \n",
        "\n",
        "Here, in this file, we are going to \"code\"\n",
        "We are going to understand python, how it works, and some tricks"
      ],
      "metadata": {
        "id": "bjE9X6hLkQ2a"
      }
    },
    {
      "cell_type": "markdown",
      "source": [
        "# 1. What is python?\n",
        "\n",
        "It was created in 1991 and it is a **general-purposue progaming language**\n",
        "\n",
        "This means that python is used for:\n",
        "*Data analysis \n",
        "*Automating task\n",
        "*Machinne learning\n",
        "*Data Visualization \n",
        "*Optimazation \n",
        "*Web development \n",
        "*User interfaces creation \n",
        "*Create another sofware\n",
        "*Create video games \n",
        "\n",
        "The world runs on python, C++, Java and HTLM / CSS, and R? \n"
      ],
      "metadata": {
        "id": "0Sk76yTpkicp"
      }
    },
    {
      "cell_type": "markdown",
      "source": [
        "# 2. Why python?\n",
        "\n",
        "The main reasons: \n",
        "\n",
        "* It is simple \n",
        "\n",
        "* Focus \n",
        "\n",
        "* Easy to learn \n",
        "\n",
        "* Open - source: it is free\n",
        "\n",
        "* Cross-platforn\n",
        "\n",
        "* Extensive libraries\n"
      ],
      "metadata": {
        "id": "npPJnFqulsov"
      }
    },
    {
      "cell_type": "markdown",
      "source": [
        "# 3. Getting Started"
      ],
      "metadata": {
        "id": "LzNlIlSMmxRX"
      }
    },
    {
      "cell_type": "markdown",
      "source": [
        "## 3.1 Python as a calculator "
      ],
      "metadata": {
        "id": "LZUtbZHJnRSe"
      }
    },
    {
      "cell_type": "code",
      "source": [
        "# Addition \n",
        "2 + 2"
      ],
      "metadata": {
        "colab": {
          "base_uri": "https://localhost:8080/"
        },
        "id": "U5XKejgqngJF",
        "outputId": "9b98c2cc-d1e6-4a34-bb31-ecd3a3e061c9"
      },
      "execution_count": 2,
      "outputs": [
        {
          "output_type": "execute_result",
          "data": {
            "text/plain": [
              "4"
            ]
          },
          "metadata": {},
          "execution_count": 2
        }
      ]
    },
    {
      "cell_type": "code",
      "source": [
        "# Subtraction \n",
        "23-7"
      ],
      "metadata": {
        "colab": {
          "base_uri": "https://localhost:8080/"
        },
        "id": "JA-gcA13oHE5",
        "outputId": "9d395c6b-59c5-44d8-89d6-abbe1287e10e"
      },
      "execution_count": 3,
      "outputs": [
        {
          "output_type": "execute_result",
          "data": {
            "text/plain": [
              "16"
            ]
          },
          "metadata": {},
          "execution_count": 3
        }
      ]
    },
    {
      "cell_type": "code",
      "source": [
        "# Multiplication \n",
        "13*7"
      ],
      "metadata": {
        "colab": {
          "base_uri": "https://localhost:8080/"
        },
        "id": "AsaTn_BgosvR",
        "outputId": "cf647f74-45c9-43f8-accc-67b81485519f"
      },
      "execution_count": 4,
      "outputs": [
        {
          "output_type": "execute_result",
          "data": {
            "text/plain": [
              "91"
            ]
          },
          "metadata": {},
          "execution_count": 4
        }
      ]
    },
    {
      "cell_type": "code",
      "source": [
        "# Division \n",
        "10/3"
      ],
      "metadata": {
        "colab": {
          "base_uri": "https://localhost:8080/"
        },
        "id": "ipiaNF5bo1Is",
        "outputId": "fd998ece-1b00-410a-cd17-5734f57479b8"
      },
      "execution_count": 5,
      "outputs": [
        {
          "output_type": "execute_result",
          "data": {
            "text/plain": [
              "3.3333333333333335"
            ]
          },
          "metadata": {},
          "execution_count": 5
        }
      ]
    },
    {
      "cell_type": "code",
      "source": [
        "# Interger Division \n",
        "10//3"
      ],
      "metadata": {
        "colab": {
          "base_uri": "https://localhost:8080/"
        },
        "id": "M2nsp2doo6tZ",
        "outputId": "3521b95c-1cea-40c1-f81a-6959832b939e"
      },
      "execution_count": 6,
      "outputs": [
        {
          "output_type": "execute_result",
          "data": {
            "text/plain": [
              "3"
            ]
          },
          "metadata": {},
          "execution_count": 6
        }
      ]
    }
  ]
}