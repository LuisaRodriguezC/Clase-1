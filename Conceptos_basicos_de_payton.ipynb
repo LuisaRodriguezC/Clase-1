{
  "nbformat": 4,
  "nbformat_minor": 0,
  "metadata": {
    "colab": {
      "provenance": [],
      "authorship_tag": "ABX9TyNetV0ueCwIYDGYLkPsAWUI",
      "include_colab_link": true
    },
    "kernelspec": {
      "name": "python3",
      "display_name": "Python 3"
    },
    "language_info": {
      "name": "python"
    }
  },
  "cells": [
    {
      "cell_type": "markdown",
      "metadata": {
        "id": "view-in-github",
        "colab_type": "text"
      },
      "source": [
        "<a href=\"https://colab.research.google.com/github/LuisaRodriguezC/Clase-1/blob/main/Conceptos_basicos_de_payton.ipynb\" target=\"_parent\"><img src=\"https://colab.research.google.com/assets/colab-badge.svg\" alt=\"Open In Colab\"/></a>"
      ]
    },
    {
      "cell_type": "code",
      "execution_count": null,
      "metadata": {
        "id": "lbdbVfNwjw1Y"
      },
      "outputs": [],
      "source": []
    },
    {
      "cell_type": "markdown",
      "source": [
        "# Introduccion \n",
        "\n",
        "Here, in this file, we are going to \"code\"\n",
        "We are going to understand python, how it works, and some tricks"
      ],
      "metadata": {
        "id": "bjE9X6hLkQ2a"
      }
    },
    {
      "cell_type": "markdown",
      "source": [
        "# 1. What is python?\n",
        "\n",
        "It was created in 1991 and it is a **general-purposue progaming language**\n",
        "\n",
        "This means that python is used for:\n",
        "*Data analysis \n",
        "*Automating task\n",
        "*Machinne learning\n",
        "*Data Visualization \n",
        "*Optimazation \n",
        "*Web development \n",
        "*User interfaces creation \n",
        "*Create another sofware\n",
        "*Create video games \n",
        "\n",
        "The world runs on python, C++, Java and HTLM / CSS, and R? \n"
      ],
      "metadata": {
        "id": "0Sk76yTpkicp"
      }
    },
    {
      "cell_type": "markdown",
      "source": [
        "# 2. Why python?\n",
        "\n",
        "The main reasons: \n",
        "\n",
        "* It is simple \n",
        "\n",
        "* Focus \n",
        "\n",
        "* Easy to learn \n",
        "\n",
        "* Open - source: it is free\n",
        "\n",
        "* Cross-platforn\n",
        "\n",
        "* Extensive libraries\n"
      ],
      "metadata": {
        "id": "npPJnFqulsov"
      }
    },
    {
      "cell_type": "markdown",
      "source": [
        "# 3. Getting Started"
      ],
      "metadata": {
        "id": "LzNlIlSMmxRX"
      }
    },
    {
      "cell_type": "markdown",
      "source": [
        "## 3.1 Python as a calculator "
      ],
      "metadata": {
        "id": "LZUtbZHJnRSe"
      }
    },
    {
      "cell_type": "code",
      "source": [
        "# Addition \n",
        "2 + 2"
      ],
      "metadata": {
        "colab": {
          "base_uri": "https://localhost:8080/"
        },
        "id": "U5XKejgqngJF",
        "outputId": "9b98c2cc-d1e6-4a34-bb31-ecd3a3e061c9"
      },
      "execution_count": null,
      "outputs": [
        {
          "output_type": "execute_result",
          "data": {
            "text/plain": [
              "4"
            ]
          },
          "metadata": {},
          "execution_count": 2
        }
      ]
    },
    {
      "cell_type": "code",
      "source": [
        "# Subtraction \n",
        "23-7"
      ],
      "metadata": {
        "colab": {
          "base_uri": "https://localhost:8080/"
        },
        "id": "JA-gcA13oHE5",
        "outputId": "9d395c6b-59c5-44d8-89d6-abbe1287e10e"
      },
      "execution_count": null,
      "outputs": [
        {
          "output_type": "execute_result",
          "data": {
            "text/plain": [
              "16"
            ]
          },
          "metadata": {},
          "execution_count": 3
        }
      ]
    },
    {
      "cell_type": "code",
      "source": [
        "# Multiplication \n",
        "13*7"
      ],
      "metadata": {
        "colab": {
          "base_uri": "https://localhost:8080/"
        },
        "id": "AsaTn_BgosvR",
        "outputId": "cf647f74-45c9-43f8-accc-67b81485519f"
      },
      "execution_count": null,
      "outputs": [
        {
          "output_type": "execute_result",
          "data": {
            "text/plain": [
              "91"
            ]
          },
          "metadata": {},
          "execution_count": 4
        }
      ]
    },
    {
      "cell_type": "code",
      "source": [
        "# Division \n",
        "10/3"
      ],
      "metadata": {
        "colab": {
          "base_uri": "https://localhost:8080/"
        },
        "id": "ipiaNF5bo1Is",
        "outputId": "fd998ece-1b00-410a-cd17-5734f57479b8"
      },
      "execution_count": null,
      "outputs": [
        {
          "output_type": "execute_result",
          "data": {
            "text/plain": [
              "3.3333333333333335"
            ]
          },
          "metadata": {},
          "execution_count": 5
        }
      ]
    },
    {
      "cell_type": "code",
      "source": [
        "# Interger Division \n",
        "10//3"
      ],
      "metadata": {
        "colab": {
          "base_uri": "https://localhost:8080/"
        },
        "id": "M2nsp2doo6tZ",
        "outputId": "3521b95c-1cea-40c1-f81a-6959832b939e"
      },
      "execution_count": null,
      "outputs": [
        {
          "output_type": "execute_result",
          "data": {
            "text/plain": [
              "3"
            ]
          },
          "metadata": {},
          "execution_count": 6
        }
      ]
    },
    {
      "cell_type": "code",
      "source": [
        "# Exponential\n",
        "2**3"
      ],
      "metadata": {
        "colab": {
          "base_uri": "https://localhost:8080/"
        },
        "id": "HPoKEPmthb4_",
        "outputId": "6bbfbb11-4328-47a3-bbad-7c0b766b0c8c"
      },
      "execution_count": 1,
      "outputs": [
        {
          "output_type": "execute_result",
          "data": {
            "text/plain": [
              "8"
            ]
          },
          "metadata": {},
          "execution_count": 1
        }
      ]
    },
    {
      "cell_type": "markdown",
      "source": [
        "## 3.2. Composite operations and parenthesis\n",
        "\n",
        "Operator precedence\n"
      ],
      "metadata": {
        "id": "wypN30bfh1Fq"
      }
    },
    {
      "cell_type": "code",
      "source": [
        "# Example \n",
        "2 + 3*4"
      ],
      "metadata": {
        "colab": {
          "base_uri": "https://localhost:8080/"
        },
        "id": "o7p3Wh4ViBJc",
        "outputId": "67af7f12-3abe-41ce-a688-754fa4ccdb53"
      },
      "execution_count": 2,
      "outputs": [
        {
          "output_type": "execute_result",
          "data": {
            "text/plain": [
              "14"
            ]
          },
          "metadata": {},
          "execution_count": 2
        }
      ]
    },
    {
      "cell_type": "markdown",
      "source": [
        "You can change the operator precedence using **parenthesis**"
      ],
      "metadata": {
        "id": "dkQ81mLtiO8t"
      }
    },
    {
      "cell_type": "code",
      "source": [
        "# Example \n",
        "(2 + 3)*4"
      ],
      "metadata": {
        "colab": {
          "base_uri": "https://localhost:8080/"
        },
        "id": "SsvrkqVeiYvG",
        "outputId": "f1492aae-ba9d-4b9d-9cb7-4dcde4e81aab"
      },
      "execution_count": 3,
      "outputs": [
        {
          "output_type": "execute_result",
          "data": {
            "text/plain": [
              "20"
            ]
          },
          "metadata": {},
          "execution_count": 3
        }
      ]
    },
    {
      "cell_type": "markdown",
      "source": [
        "## 3.3. Integers and Real Numbers \n",
        "\n"
      ],
      "metadata": {
        "id": "jUc5Mdf3itNo"
      }
    },
    {
      "cell_type": "code",
      "source": [
        "# Interger (with no decimal positions)\n",
        "type(26)"
      ],
      "metadata": {
        "colab": {
          "base_uri": "https://localhost:8080/"
        },
        "id": "QRncXL-Ajpwu",
        "outputId": "639547e8-3915-4533-a293-5d94379ffd98"
      },
      "execution_count": 4,
      "outputs": [
        {
          "output_type": "execute_result",
          "data": {
            "text/plain": [
              "int"
            ]
          },
          "metadata": {},
          "execution_count": 4
        }
      ]
    },
    {
      "cell_type": "code",
      "source": [
        "# Real numeber (whith decimal positions)\n",
        "type(26.0)"
      ],
      "metadata": {
        "colab": {
          "base_uri": "https://localhost:8080/"
        },
        "id": "XOy6I4x6j9se",
        "outputId": "b849cb77-07dc-4ca7-8aa9-9c6165b322e7"
      },
      "execution_count": 5,
      "outputs": [
        {
          "output_type": "execute_result",
          "data": {
            "text/plain": [
              "float"
            ]
          },
          "metadata": {},
          "execution_count": 5
        }
      ]
    },
    {
      "cell_type": "code",
      "source": [
        "# Examples \n",
        "# Find out if the next expressions are int or floats\n",
        "2 + 3.0\n",
        "2.5*7\n",
        "4.0/2"
      ],
      "metadata": {
        "colab": {
          "base_uri": "https://localhost:8080/"
        },
        "id": "PA-7Hmkpkd38",
        "outputId": "10dea58f-1bc8-41ec-d09b-90d8c95b4f0f"
      },
      "execution_count": 6,
      "outputs": [
        {
          "output_type": "execute_result",
          "data": {
            "text/plain": [
              "2.0"
            ]
          },
          "metadata": {},
          "execution_count": 6
        }
      ]
    },
    {
      "cell_type": "code",
      "source": [
        "type(2 + 3.0)"
      ],
      "metadata": {
        "colab": {
          "base_uri": "https://localhost:8080/"
        },
        "id": "_hnMCyM9k-OM",
        "outputId": "0b1cbc81-604a-4990-c3ab-2f96c964a9ad"
      },
      "execution_count": 9,
      "outputs": [
        {
          "output_type": "execute_result",
          "data": {
            "text/plain": [
              "float"
            ]
          },
          "metadata": {},
          "execution_count": 9
        }
      ]
    },
    {
      "cell_type": "markdown",
      "source": [
        "# Scientific notation "
      ],
      "metadata": {
        "id": "wXn4vgElmQ_g"
      }
    },
    {
      "cell_type": "code",
      "source": [
        "# Example \n",
        "5e1"
      ],
      "metadata": {
        "colab": {
          "base_uri": "https://localhost:8080/"
        },
        "id": "ozpihp60n8Ek",
        "outputId": "df2481c3-09ae-4979-bf9c-5e2029b3df0f"
      },
      "execution_count": 10,
      "outputs": [
        {
          "output_type": "execute_result",
          "data": {
            "text/plain": [
              "50.0"
            ]
          },
          "metadata": {},
          "execution_count": 10
        }
      ]
    },
    {
      "cell_type": "code",
      "source": [
        "6e-2"
      ],
      "metadata": {
        "colab": {
          "base_uri": "https://localhost:8080/"
        },
        "id": "btbochaBoI-2",
        "outputId": "b222a734-6795-4399-9938-e0e30d177b80"
      },
      "execution_count": 11,
      "outputs": [
        {
          "output_type": "execute_result",
          "data": {
            "text/plain": [
              "0.06"
            ]
          },
          "metadata": {},
          "execution_count": 11
        }
      ]
    },
    {
      "cell_type": "code",
      "source": [
        "# Practice \n",
        "# Write 1 millon in scientific notation \n",
        "# What is the result of 3e0.2"
      ],
      "metadata": {
        "id": "MO8ifOfVov4n"
      },
      "execution_count": null,
      "outputs": []
    },
    {
      "cell_type": "code",
      "source": [
        "# Write 1 millon in scientific notation \n",
        "1e6"
      ],
      "metadata": {
        "colab": {
          "base_uri": "https://localhost:8080/"
        },
        "id": "M3lXVdkopAnB",
        "outputId": "197ce6c2-977d-4fc2-c1df-3cdd5be95cc5"
      },
      "execution_count": 12,
      "outputs": [
        {
          "output_type": "execute_result",
          "data": {
            "text/plain": [
              "1000000.0"
            ]
          },
          "metadata": {},
          "execution_count": 12
        }
      ]
    },
    {
      "cell_type": "code",
      "source": [
        "# What is the result of 3e02\n",
        "3e0.2"
      ],
      "metadata": {
        "colab": {
          "base_uri": "https://localhost:8080/",
          "height": 130
        },
        "id": "bo7mn1d_pS3w",
        "outputId": "b5a78f0e-4296-4f42-fcc0-4a5af0e9633c"
      },
      "execution_count": 15,
      "outputs": [
        {
          "output_type": "error",
          "ename": "SyntaxError",
          "evalue": "ignored",
          "traceback": [
            "\u001b[0;36m  File \u001b[0;32m\"<ipython-input-15-2a560b5777e2>\"\u001b[0;36m, line \u001b[0;32m2\u001b[0m\n\u001b[0;31m    3e0.2\u001b[0m\n\u001b[0m       ^\u001b[0m\n\u001b[0;31mSyntaxError\u001b[0m\u001b[0;31m:\u001b[0m invalid syntax\n"
          ]
        }
      ]
    },
    {
      "cell_type": "markdown",
      "source": [
        "### Transformation \n",
        "You can change the type() of a number. Or you can force a type () of a number."
      ],
      "metadata": {
        "id": "QaO7RIjDqN6I"
      }
    },
    {
      "cell_type": "code",
      "source": [
        "# Example \n",
        "float (6)"
      ],
      "metadata": {
        "colab": {
          "base_uri": "https://localhost:8080/"
        },
        "id": "t8al-NhrqNAO",
        "outputId": "e5b8041e-dfa7-4c95-d387-3bc2f9aa0c5c"
      },
      "execution_count": 17,
      "outputs": [
        {
          "output_type": "execute_result",
          "data": {
            "text/plain": [
              "6.0"
            ]
          },
          "metadata": {},
          "execution_count": 17
        }
      ]
    },
    {
      "cell_type": "code",
      "source": [
        "# Example }\n",
        "int (3.3333)"
      ],
      "metadata": {
        "colab": {
          "base_uri": "https://localhost:8080/"
        },
        "id": "kRQZfQ3iqpbj",
        "outputId": "77fdf49a-298f-4456-cb80-09b8bdbd8ad9"
      },
      "execution_count": 18,
      "outputs": [
        {
          "output_type": "execute_result",
          "data": {
            "text/plain": [
              "3"
            ]
          },
          "metadata": {},
          "execution_count": 18
        }
      ]
    }
  ]
}