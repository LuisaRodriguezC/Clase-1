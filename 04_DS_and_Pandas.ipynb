{
  "nbformat": 4,
  "nbformat_minor": 0,
  "metadata": {
    "colab": {
      "provenance": [],
      "authorship_tag": "ABX9TyMtZzViTycmtHtFWyVDy1tJ",
      "include_colab_link": true
    },
    "kernelspec": {
      "name": "python3",
      "display_name": "Python 3"
    },
    "language_info": {
      "name": "python"
    }
  },
  "cells": [
    {
      "cell_type": "markdown",
      "metadata": {
        "id": "view-in-github",
        "colab_type": "text"
      },
      "source": [
        "<a href=\"https://colab.research.google.com/github/LuisaRodriguezC/Clase-1/blob/main/04_DS_and_Pandas.ipynb\" target=\"_parent\"><img src=\"https://colab.research.google.com/assets/colab-badge.svg\" alt=\"Open In Colab\"/></a>"
      ]
    },
    {
      "cell_type": "markdown",
      "source": [
        "# **1. Ds and Pandas**\n",
        "\n",
        "It is the excel of python. "
      ],
      "metadata": {
        "id": "3AY4e3K9uDlu"
      }
    },
    {
      "cell_type": "code",
      "execution_count": 30,
      "metadata": {
        "id": "E7AIF5rUtn2o"
      },
      "outputs": [],
      "source": [
        "# Libraries \n",
        "\n",
        "import numpy as np\n",
        "import pandas as pd\n"
      ]
    },
    {
      "cell_type": "markdown",
      "source": [
        "# **2. Series**\n",
        "\n",
        "A *Series* is a one dimensional object.\n"
      ],
      "metadata": {
        "id": "AIfusZ5Yu6S_"
      }
    },
    {
      "cell_type": "markdown",
      "source": [
        "## 2.1. Series Creation "
      ],
      "metadata": {
        "id": "eV3zcbFFvQm1"
      }
    },
    {
      "cell_type": "code",
      "source": [
        "# Empty Series \n",
        "\n",
        "s_empty = pd.Series()\n",
        "print (s_empty)"
      ],
      "metadata": {
        "colab": {
          "base_uri": "https://localhost:8080/"
        },
        "id": "PUw5lxNbupfp",
        "outputId": "b67bd8f1-63da-4d3b-c4cb-74d49ea3bc67"
      },
      "execution_count": null,
      "outputs": [
        {
          "output_type": "stream",
          "name": "stdout",
          "text": [
            "Series([], dtype: float64)\n"
          ]
        },
        {
          "output_type": "stream",
          "name": "stderr",
          "text": [
            "<ipython-input-2-6c7e81fb5152>:3: FutureWarning: The default dtype for empty Series will be 'object' instead of 'float64' in a future version. Specify a dtype explicitly to silence this warning.\n",
            "  s_empty = pd.Series()\n"
          ]
        }
      ]
    },
    {
      "cell_type": "code",
      "source": [
        "# Create a series by typing values \n",
        "\n",
        "s_int = pd. Series([1,2,3,4,5,6,7,8,9])\n",
        "print(s_int)\n",
        "\n",
        "s_int = pd. Series(['Nicolas', 'Luisa', 'Jose'])\n",
        "print(s_int)"
      ],
      "metadata": {
        "colab": {
          "base_uri": "https://localhost:8080/"
        },
        "id": "o2tbuWKuv4Z8",
        "outputId": "0410a7fd-8054-4ca4-a239-2c6c601b80fe"
      },
      "execution_count": null,
      "outputs": [
        {
          "output_type": "stream",
          "name": "stdout",
          "text": [
            "0    1\n",
            "1    2\n",
            "2    3\n",
            "3    4\n",
            "4    5\n",
            "5    6\n",
            "6    7\n",
            "7    8\n",
            "8    9\n",
            "dtype: int64\n",
            "0    Nicolas\n",
            "1      Luisa\n",
            "2       Jose\n",
            "dtype: object\n"
          ]
        }
      ]
    },
    {
      "cell_type": "code",
      "source": [
        "# Create a series \n",
        "\n",
        "s_rand = pd.Series(np.random.rand(10))\n",
        "print(s_rand)"
      ],
      "metadata": {
        "colab": {
          "base_uri": "https://localhost:8080/"
        },
        "id": "gGL-jzkxwQ3t",
        "outputId": "c3440a9f-b808-479a-9c12-823df8b9e3e6"
      },
      "execution_count": null,
      "outputs": [
        {
          "output_type": "stream",
          "name": "stdout",
          "text": [
            "0    0.876668\n",
            "1    0.511394\n",
            "2    0.555666\n",
            "3    0.802944\n",
            "4    0.650942\n",
            "5    0.329359\n",
            "6    0.282765\n",
            "7    0.999979\n",
            "8    0.797894\n",
            "9    0.398282\n",
            "dtype: float64\n"
          ]
        }
      ]
    },
    {
      "cell_type": "markdown",
      "source": [
        "## 2.2. Indexing "
      ],
      "metadata": {
        "id": "fW3rnEXmyyHZ"
      }
    },
    {
      "cell_type": "code",
      "source": [
        "# Check the index of a Series\n",
        "\n",
        "s_rand.index "
      ],
      "metadata": {
        "colab": {
          "base_uri": "https://localhost:8080/"
        },
        "id": "l3iHSp1KyjSM",
        "outputId": "77685cf4-49c3-48d1-cd40-eda33f0840b2"
      },
      "execution_count": null,
      "outputs": [
        {
          "output_type": "execute_result",
          "data": {
            "text/plain": [
              "RangeIndex(start=0, stop=10, step=1)"
            ]
          },
          "metadata": {},
          "execution_count": 9
        }
      ]
    },
    {
      "cell_type": "code",
      "source": [
        "# Create your own index\n",
        "\n",
        "new_index = ['A', 'B', 'C']\n",
        "s_str3 = s_int.set_axis(new_index)\n",
        "print(s_str3)"
      ],
      "metadata": {
        "colab": {
          "base_uri": "https://localhost:8080/"
        },
        "id": "Nq20bDjbzHR1",
        "outputId": "4b936837-f5fa-445a-a5e9-2153ecec55cf"
      },
      "execution_count": null,
      "outputs": [
        {
          "output_type": "stream",
          "name": "stdout",
          "text": [
            "A    Nicolas\n",
            "B      Luisa\n",
            "C       Jose\n",
            "dtype: object\n"
          ]
        }
      ]
    },
    {
      "cell_type": "markdown",
      "source": [
        "## 2.3. Select and Slice "
      ],
      "metadata": {
        "id": "prD2gB9L2yyz"
      }
    },
    {
      "cell_type": "code",
      "source": [
        "# Simple Selection \n",
        "\n",
        "s_str3['B']\n",
        "s_str3[1]"
      ],
      "metadata": {
        "colab": {
          "base_uri": "https://localhost:8080/",
          "height": 35
        },
        "id": "Q63fjH0U2dws",
        "outputId": "b182db22-1ecd-407c-8f09-d3893e9f62ea"
      },
      "execution_count": null,
      "outputs": [
        {
          "output_type": "execute_result",
          "data": {
            "text/plain": [
              "'Luisa'"
            ],
            "application/vnd.google.colaboratory.intrinsic+json": {
              "type": "string"
            }
          },
          "metadata": {},
          "execution_count": 15
        }
      ]
    },
    {
      "cell_type": "code",
      "source": [
        "# Select different elements \n",
        "\n",
        "s_rand[[3,8]]\n"
      ],
      "metadata": {
        "colab": {
          "base_uri": "https://localhost:8080/"
        },
        "id": "LigHzGYX28E1",
        "outputId": "78be65fc-b476-4635-d943-e4dc2d4e3790"
      },
      "execution_count": null,
      "outputs": [
        {
          "output_type": "execute_result",
          "data": {
            "text/plain": [
              "3    0.802944\n",
              "8    0.797894\n",
              "dtype: float64"
            ]
          },
          "metadata": {},
          "execution_count": 17
        }
      ]
    },
    {
      "cell_type": "code",
      "source": [
        "# Another way\n",
        "\n",
        "s_rand[:3]"
      ],
      "metadata": {
        "colab": {
          "base_uri": "https://localhost:8080/"
        },
        "id": "9ASaxGrV3rND",
        "outputId": "17e9d677-c953-4c14-ac84-267ec5ddd7c0"
      },
      "execution_count": null,
      "outputs": [
        {
          "output_type": "execute_result",
          "data": {
            "text/plain": [
              "0    0.876668\n",
              "1    0.511394\n",
              "2    0.555666\n",
              "dtype: float64"
            ]
          },
          "metadata": {},
          "execution_count": 18
        }
      ]
    },
    {
      "cell_type": "markdown",
      "source": [
        "# **3.Pandas time-series**"
      ],
      "metadata": {
        "id": "G5DyvmXXxxBC"
      }
    },
    {
      "cell_type": "markdown",
      "source": [
        "## 3.1 Indexing pandas time-series"
      ],
      "metadata": {
        "id": "k8iSGelYx9Yy"
      }
    },
    {
      "cell_type": "code",
      "source": [
        "# Create a date range \n",
        "\n",
        "pd.date_range(start = '01/01/2023', end = '28/03/2023')"
      ],
      "metadata": {
        "id": "dvvWAEZo4Eua",
        "colab": {
          "base_uri": "https://localhost:8080/"
        },
        "outputId": "51e5a1ac-5a6d-4d08-bc73-106ece793fb8"
      },
      "execution_count": 2,
      "outputs": [
        {
          "output_type": "stream",
          "name": "stderr",
          "text": [
            "/usr/local/lib/python3.9/dist-packages/IPython/core/interactiveshell.py:3326: UserWarning: Parsing '28/03/2023' in DD/MM/YYYY format. Provide format or specify infer_datetime_format=True for consistent parsing.\n",
            "  exec(code_obj, self.user_global_ns, self.user_ns)\n"
          ]
        },
        {
          "output_type": "execute_result",
          "data": {
            "text/plain": [
              "DatetimeIndex(['2023-01-01', '2023-01-02', '2023-01-03', '2023-01-04',\n",
              "               '2023-01-05', '2023-01-06', '2023-01-07', '2023-01-08',\n",
              "               '2023-01-09', '2023-01-10', '2023-01-11', '2023-01-12',\n",
              "               '2023-01-13', '2023-01-14', '2023-01-15', '2023-01-16',\n",
              "               '2023-01-17', '2023-01-18', '2023-01-19', '2023-01-20',\n",
              "               '2023-01-21', '2023-01-22', '2023-01-23', '2023-01-24',\n",
              "               '2023-01-25', '2023-01-26', '2023-01-27', '2023-01-28',\n",
              "               '2023-01-29', '2023-01-30', '2023-01-31', '2023-02-01',\n",
              "               '2023-02-02', '2023-02-03', '2023-02-04', '2023-02-05',\n",
              "               '2023-02-06', '2023-02-07', '2023-02-08', '2023-02-09',\n",
              "               '2023-02-10', '2023-02-11', '2023-02-12', '2023-02-13',\n",
              "               '2023-02-14', '2023-02-15', '2023-02-16', '2023-02-17',\n",
              "               '2023-02-18', '2023-02-19', '2023-02-20', '2023-02-21',\n",
              "               '2023-02-22', '2023-02-23', '2023-02-24', '2023-02-25',\n",
              "               '2023-02-26', '2023-02-27', '2023-02-28', '2023-03-01',\n",
              "               '2023-03-02', '2023-03-03', '2023-03-04', '2023-03-05',\n",
              "               '2023-03-06', '2023-03-07', '2023-03-08', '2023-03-09',\n",
              "               '2023-03-10', '2023-03-11', '2023-03-12', '2023-03-13',\n",
              "               '2023-03-14', '2023-03-15', '2023-03-16', '2023-03-17',\n",
              "               '2023-03-18', '2023-03-19', '2023-03-20', '2023-03-21',\n",
              "               '2023-03-22', '2023-03-23', '2023-03-24', '2023-03-25',\n",
              "               '2023-03-26', '2023-03-27', '2023-03-28'],\n",
              "              dtype='datetime64[ns]', freq='D')"
            ]
          },
          "metadata": {},
          "execution_count": 2
        }
      ]
    },
    {
      "cell_type": "code",
      "source": [
        "# Another way \n",
        "\n",
        "pd.date_range(start = '01/01/2023', periods = 32)"
      ],
      "metadata": {
        "colab": {
          "base_uri": "https://localhost:8080/"
        },
        "id": "pLf7ddqfzh7P",
        "outputId": "788a06c6-02d3-475f-c392-1076c6e72c78"
      },
      "execution_count": 4,
      "outputs": [
        {
          "output_type": "execute_result",
          "data": {
            "text/plain": [
              "DatetimeIndex(['2023-01-01', '2023-01-02', '2023-01-03', '2023-01-04',\n",
              "               '2023-01-05', '2023-01-06', '2023-01-07', '2023-01-08',\n",
              "               '2023-01-09', '2023-01-10', '2023-01-11', '2023-01-12',\n",
              "               '2023-01-13', '2023-01-14', '2023-01-15', '2023-01-16',\n",
              "               '2023-01-17', '2023-01-18', '2023-01-19', '2023-01-20',\n",
              "               '2023-01-21', '2023-01-22', '2023-01-23', '2023-01-24',\n",
              "               '2023-01-25', '2023-01-26', '2023-01-27', '2023-01-28',\n",
              "               '2023-01-29', '2023-01-30', '2023-01-31', '2023-02-01'],\n",
              "              dtype='datetime64[ns]', freq='D')"
            ]
          },
          "metadata": {},
          "execution_count": 4
        }
      ]
    },
    {
      "cell_type": "code",
      "source": [
        "# Another another way \n",
        "\n",
        "pd.date_range(start = '01/01/2023', periods = 32, freq = 'Q')\n",
        "\n"
      ],
      "metadata": {
        "colab": {
          "base_uri": "https://localhost:8080/"
        },
        "id": "FcO1fZu3ztV4",
        "outputId": "b0d8b72d-af66-4565-9663-cd936ecaa070"
      },
      "execution_count": 7,
      "outputs": [
        {
          "output_type": "execute_result",
          "data": {
            "text/plain": [
              "DatetimeIndex(['2023-03-31', '2023-06-30', '2023-09-30', '2023-12-31',\n",
              "               '2024-03-31', '2024-06-30', '2024-09-30', '2024-12-31',\n",
              "               '2025-03-31', '2025-06-30', '2025-09-30', '2025-12-31',\n",
              "               '2026-03-31', '2026-06-30', '2026-09-30', '2026-12-31',\n",
              "               '2027-03-31', '2027-06-30', '2027-09-30', '2027-12-31',\n",
              "               '2028-03-31', '2028-06-30', '2028-09-30', '2028-12-31',\n",
              "               '2029-03-31', '2029-06-30', '2029-09-30', '2029-12-31',\n",
              "               '2030-03-31', '2030-06-30', '2030-09-30', '2030-12-31'],\n",
              "              dtype='datetime64[ns]', freq='Q-DEC')"
            ]
          },
          "metadata": {},
          "execution_count": 7
        }
      ]
    },
    {
      "cell_type": "markdown",
      "source": [
        "## 3.2. Asign a time-serie index"
      ],
      "metadata": {
        "id": "pX8sJYXl1PXF"
      }
    },
    {
      "cell_type": "code",
      "source": [
        "\n",
        "# Create dates \n",
        "\n",
        "my_dates = pd.date_range(start = '01/03/2023', periods = 15)\n",
        "\n",
        "# Create an object \n",
        "\n",
        "sales = pd.Series(np.random.randint(low = 200, high = 250, size = 15), \n",
        "                  index = my_dates)\n",
        "\n",
        "print(sales)"
      ],
      "metadata": {
        "colab": {
          "base_uri": "https://localhost:8080/"
        },
        "id": "Od1Btf9o0KU1",
        "outputId": "0e9cc1b8-c58d-43e3-bcb0-73d87e25c708"
      },
      "execution_count": 10,
      "outputs": [
        {
          "output_type": "stream",
          "name": "stdout",
          "text": [
            "2023-01-03    220\n",
            "2023-01-04    216\n",
            "2023-01-05    234\n",
            "2023-01-06    207\n",
            "2023-01-07    222\n",
            "2023-01-08    217\n",
            "2023-01-09    213\n",
            "2023-01-10    247\n",
            "2023-01-11    223\n",
            "2023-01-12    224\n",
            "2023-01-13    205\n",
            "2023-01-14    245\n",
            "2023-01-15    240\n",
            "2023-01-16    249\n",
            "2023-01-17    249\n",
            "Freq: D, dtype: int64\n"
          ]
        }
      ]
    },
    {
      "cell_type": "markdown",
      "source": [
        "# **4. Pratical case - Simulation**"
      ],
      "metadata": {
        "id": "H4tSuTxi227l"
      }
    },
    {
      "cell_type": "markdown",
      "source": [
        "## 4.2. create the simulation \n",
        "\n",
        "A simulation of the price of a financial asset.\n",
        "\n",
        "* First, create yhe dates. "
      ],
      "metadata": {
        "id": "PPS3aWTC2-dM"
      }
    },
    {
      "cell_type": "code",
      "source": [
        "## Create a dally series of dates from 2021 until today \n",
        "\n",
        "# Saves\"today\"\n",
        "td = pd.to_datetime('today').strftime(\"%m/%d/%Y\")\n",
        " \n",
        "#Create the range \n",
        "\n",
        "dr = pd.date_range(start = '01/01/2021', end = td)\n",
        "nd = len(dr)"
      ],
      "metadata": {
        "id": "pEubQrH_3fWj"
      },
      "execution_count": 22,
      "outputs": []
    },
    {
      "cell_type": "code",
      "source": [
        "## Create a dally series of dates from 2021 until today \n",
        "\n",
        "# Saves\"today\"\n",
        "td = pd.to_datetime('today').strftime(\"%M/%D/%Y\") \n",
        "#NUNCA PONER M, D MAYUSCULA "
      ],
      "metadata": {
        "id": "u0M-zCai4Y2Z"
      },
      "execution_count": 17,
      "outputs": []
    },
    {
      "cell_type": "markdown",
      "source": [
        "* Second, simulate the price "
      ],
      "metadata": {
        "id": "mTx4oOEU5zmW"
      }
    },
    {
      "cell_type": "code",
      "source": [
        "# Price with returns - N(mu,sigma^2)\n",
        "\n",
        "## Moments\n",
        "mu = 0.001; sigma =0.01\n",
        "#Returns\n",
        "r = np.random.normal (mu, sigma, size = nd)\n",
        "\n",
        "#Price \n",
        "s = np.empty(nd)\n",
        "s[0] = 100\n",
        "\n",
        "for i in range(1, nd):\n",
        "    s[i] = s[i-1]*np.exp(r[i])"
      ],
      "metadata": {
        "id": "FdOeSmky4_p4"
      },
      "execution_count": 28,
      "outputs": []
    },
    {
      "cell_type": "markdown",
      "source": [
        "* Third, put together dates and price \n"
      ],
      "metadata": {
        "id": "Sz4c6Jxe7tjh"
      }
    },
    {
      "cell_type": "code",
      "source": [
        "# Create the time series \n",
        "s = pd.Series(s, index =dr)\n",
        "s.head()"
      ],
      "metadata": {
        "colab": {
          "base_uri": "https://localhost:8080/"
        },
        "id": "FLicYt9h7P2i",
        "outputId": "fb6164b6-be66-4624-b3c3-2e3402c26525"
      },
      "execution_count": 34,
      "outputs": [
        {
          "output_type": "execute_result",
          "data": {
            "text/plain": [
              "2021-01-01    100.000000\n",
              "2021-01-02     98.472410\n",
              "2021-01-03    100.261975\n",
              "2021-01-04    100.474572\n",
              "2021-01-05    101.728680\n",
              "Freq: D, dtype: float64"
            ]
          },
          "metadata": {},
          "execution_count": 34
        }
      ]
    },
    {
      "cell_type": "code",
      "source": [
        "import matplotlib.pyplot as plt\n"
      ],
      "metadata": {
        "id": "gbbgs1hn74Bo"
      },
      "execution_count": 32,
      "outputs": []
    },
    {
      "cell_type": "code",
      "source": [
        "plt.plot(s)\n",
        "plt.show()"
      ],
      "metadata": {
        "colab": {
          "base_uri": "https://localhost:8080/",
          "height": 265
        },
        "id": "TEVEsLiY8NEY",
        "outputId": "5d308869-41c2-4e93-9de9-ec4c7df0ac1d"
      },
      "execution_count": 38,
      "outputs": [
        {
          "output_type": "display_data",
          "data": {
            "text/plain": [
              "<Figure size 432x288 with 1 Axes>"
            ],
            "image/png": "[encoded data removed]"
          },
          "metadata": {
            "needs_background": "light"
          }
        }
      ]
    },
    {
      "cell_type": "code",
      "source": [],
      "metadata": {
        "id": "Q6itbjig8Uv0"
      },
      "execution_count": null,
      "outputs": []
    }
  ]
}