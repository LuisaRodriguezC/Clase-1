{
  "nbformat": 4,
  "nbformat_minor": 0,
  "metadata": {
    "colab": {
      "provenance": [],
      "toc_visible": true,
      "authorship_tag": "ABX9TyMDWm4tt8fRPxDlIR8x/0pg",
      "include_colab_link": true
    },
    "kernelspec": {
      "name": "python3",
      "display_name": "Python 3"
    },
    "language_info": {
      "name": "python"
    }
  },
  "cells": [
    {
      "cell_type": "markdown",
      "metadata": {
        "id": "view-in-github",
        "colab_type": "text"
      },
      "source": [
        "<a href=\"https://colab.research.google.com/github/LuisaRodriguezC/Clase-1/blob/main/CLASE1.ipynb\" target=\"_parent\"><img src=\"https://colab.research.google.com/assets/colab-badge.svg\" alt=\"Open In Colab\"/></a>"
      ]
    },
    {
      "cell_type": "code",
      "execution_count": null,
      "metadata": {
        "id": "aPrYZrtOl7y2"
      },
      "outputs": [],
      "source": []
    },
    {
      "cell_type": "markdown",
      "source": [
        "## bold \n",
        "using **:\n",
        "**Rodrigo** = **rodrigo**"
      ],
      "metadata": {
        "id": "S_gRpEYvfO6H"
      }
    },
    {
      "cell_type": "markdown",
      "source": [
        "##Italy \n",
        "\n",
        "Use *\n",
        "´Velez`= *Velez*"
      ],
      "metadata": {
        "id": "sNZxO2KMf_LH"
      }
    },
    {
      "cell_type": "markdown",
      "source": [
        "**Luisa Fernanda** *Rodriguez* ***Candamil***\n",
        "\n"
      ],
      "metadata": {
        "id": "lnh95f8qhiqS"
      }
    }
  ]
}