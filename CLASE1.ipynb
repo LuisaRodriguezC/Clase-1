{
  "nbformat": 4,
  "nbformat_minor": 0,
  "metadata": {
    "colab": {
      "provenance": [],
      "toc_visible": true,
      "authorship_tag": "ABX9TyOlGp6WN8mWT4FVQmTnnlSK",
      "include_colab_link": true
    },
    "kernelspec": {
      "name": "python3",
      "display_name": "Python 3"
    },
    "language_info": {
      "name": "python"
    }
  },
  "cells": [
    {
      "cell_type": "markdown",
      "metadata": {
        "id": "view-in-github",
        "colab_type": "text"
      },
      "source": [
        "<a href=\"https://colab.research.google.com/github/LuisaRodriguezC/Clase-1/blob/main/CLASE1.ipynb\" target=\"_parent\"><img src=\"https://colab.research.google.com/assets/colab-badge.svg\" alt=\"Open In Colab\"/></a>"
      ]
    },
    {
      "cell_type": "code",
      "execution_count": null,
      "metadata": {
        "id": "aPrYZrtOl7y2"
      },
      "outputs": [],
      "source": []
    },
    {
      "cell_type": "markdown",
      "source": [],
      "metadata": {
        "id": "GLGEolEiflcL"
      }
    },
    {
      "cell_type": "markdown",
      "source": [
        "## bold \n",
        "using **:\n",
        "**Rodrigo** = **rodrigo**"
      ],
      "metadata": {
        "id": "S_gRpEYvfO6H"
      }
    },
    {
      "cell_type": "markdown",
      "source": [
        "##Italics\n",
        "\n",
        "Use *\n",
        "´Velez`= *Velez*"
      ],
      "metadata": {
        "id": "sNZxO2KMf_LH"
      }
    },
    {
      "cell_type": "markdown",
      "source": [
        "**Luisa Fernanda** *Rodriguez* ***Candamil***\n",
        "\n"
      ],
      "metadata": {
        "id": "lnh95f8qhiqS"
      }
    },
    {
      "cell_type": "markdown",
      "source": [
        "## ordered list\n",
        "\n",
        "**list of sports:**\n",
        "* football\n",
        "* Basketball\n",
        "\n",
        "**the best signgers:**\n",
        "1. justin beiber \n",
        "2. Maluma \n"
      ],
      "metadata": {
        "id": "_00_Zl2pjRsJ"
      }
    },
    {
      "cell_type": "markdown",
      "source": [
        "## Nested lists\n",
        "\n",
        "**To-Do list:**\n",
        "\n",
        "1. Trainning\n",
        "\n",
        "    1.1. wake-up early\n",
        "    1.2. Run 10 kms\n",
        "\n",
        "2. Rest \n",
        "\n",
        "    2.1. Sleep"
      ],
      "metadata": {
        "id": "RQF5qTrrkZ6d"
      }
    },
    {
      "cell_type": "markdown",
      "source": [
        "## To-do list for Tomorrow\n",
        "1. Me despierto:\n",
        "\n",
        "    1.1 levantarme a las 4 de la mañana \n",
        "\n",
        "    1.2 alistarme para salir a la U \n",
        "\n",
        "    1.3 Desayunar\n",
        "\n",
        "2. Coger el transporte :\n",
        "\n",
        "    2.1 llegar a la universidad a clase de mercados\n",
        "\n",
        "    2.2 Estas en clase hasta las 2 de la tarde\n",
        "\n",
        "3. Irme a trabajar..."
      ],
      "metadata": {
        "id": "1MR854b8likR"
      }
    },
    {
      "cell_type": "markdown",
      "source": [
        "##Inserts\n",
        "[La Salle](https://www.lasalle.edu.co/)"
      ],
      "metadata": {
        "id": "-q8_kOOaoZPZ"
      }
    },
    {
      "cell_type": "markdown",
      "source": [
        "## Tables \n",
        "\n",
        "| a | b | c |\n",
        "|---|---|---|\n",
        "| 1 | 2 | 3 |\n",
        "| 4 | 5 | 6 | "
      ],
      "metadata": {
        "id": "d7CP5207qMId"
      }
    },
    {
      "cell_type": "markdown",
      "source": [
        "| Name | Relationship | Age | \n",
        "|---|---|---|\n",
        "|Angela|mom|48|\n",
        "|Jorge|dad|59|\n",
        "|Felipe|Brother|29|\n",
        "|Cristian|Brother|31|\n",
        "|Tatiana|Bestie|21|"
      ],
      "metadata": {
        "id": "2H1nF_4iq9tZ"
      }
    },
    {
      "cell_type": "markdown",
      "source": [
        "What  means in line? It means in the same line that you are typing \n",
        "An in line equation will start and end with the symbol ´$´.\n",
        "\n",
        "*For example* This is the Pytagoras theorem: \n",
        "·· Some tricks\n",
        "\n",
        "* Subindex: $x_[1]$.\n",
        "* Supraindex: $x^[2]$\n",
        "* Combination $x_[1]^[2]$ or $x^[2]_[1]$"
      ],
      "metadata": {
        "id": "VPMeBHiUfmtq"
      }
    }
  ]
}