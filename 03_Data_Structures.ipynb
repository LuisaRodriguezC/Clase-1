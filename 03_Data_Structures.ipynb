{
  "nbformat": 4,
  "nbformat_minor": 0,
  "metadata": {
    "colab": {
      "provenance": [],
      "authorship_tag": "ABX9TyNhOsT/woHtLx1cpNMvwVLE",
      "include_colab_link": true
    },
    "kernelspec": {
      "name": "python3",
      "display_name": "Python 3"
    },
    "language_info": {
      "name": "python"
    }
  },
  "cells": [
    {
      "cell_type": "markdown",
      "metadata": {
        "id": "view-in-github",
        "colab_type": "text"
      },
      "source": [
        "<a href=\"https://colab.research.google.com/github/LuisaRodriguezC/Clase-1/blob/main/03_Data_Structures.ipynb\" target=\"_parent\"><img src=\"https://colab.research.google.com/assets/colab-badge.svg\" alt=\"Open In Colab\"/></a>"
      ]
    },
    {
      "cell_type": "markdown",
      "source": [
        "# **1. what is a DS?**\n",
        "\n",
        "A DS is an object that let us store moer than one value.\n",
        "\n",
        "Formally, a DS is **squence** of values which can be located with an index."
      ],
      "metadata": {
        "id": "u9X-q9Vtuhvj"
      }
    },
    {
      "cell_type": "markdown",
      "source": [
        "# **2. Linear Algebra**\n"
      ],
      "metadata": {
        "id": "2OnR5gu0w1AD"
      }
    },
    {
      "cell_type": "markdown",
      "source": [
        "## 2.1 What is Numpy?\n",
        "\n",
        "Numpy (Numerical python) is a collection of functions and methods.\n"
      ],
      "metadata": {
        "id": "o-crCzHxw9rr"
      }
    },
    {
      "cell_type": "code",
      "source": [
        "# Install the library\n",
        "\n",
        "import numpy as np "
      ],
      "metadata": {
        "id": "UfaIgNu8xyoo"
      },
      "execution_count": 3,
      "outputs": []
    },
    {
      "cell_type": "markdown",
      "source": [
        "## 2.2. Numpy arrays - vectors and matrices "
      ],
      "metadata": {
        "id": "CN1yc0hLye_M"
      }
    },
    {
      "cell_type": "markdown",
      "source": [
        "*Example 1 - Colum vector*"
      ],
      "metadata": {
        "id": "3ekojK6bynoL"
      }
    },
    {
      "cell_type": "code",
      "source": [
        "a = np.array([[1],[2],[3]])\n",
        "print(a)"
      ],
      "metadata": {
        "colab": {
          "base_uri": "https://localhost:8080/"
        },
        "id": "G6LMfztozxyc",
        "outputId": "1a5b4233-9409-46cd-f2ce-f8631eea04da"
      },
      "execution_count": 4,
      "outputs": [
        {
          "output_type": "stream",
          "name": "stdout",
          "text": [
            "[[1]\n",
            " [2]\n",
            " [3]]\n"
          ]
        }
      ]
    },
    {
      "cell_type": "markdown",
      "source": [
        "## *Example 2* - Row Vector"
      ],
      "metadata": {
        "id": "4vFph2Agn7rX"
      }
    },
    {
      "cell_type": "code",
      "source": [
        "b = np.array([[4,5,6]])\n",
        "print(b)\n",
        "print(b.shape)"
      ],
      "metadata": {
        "id": "5PrrqVxJ0Rca",
        "colab": {
          "base_uri": "https://localhost:8080/"
        },
        "outputId": "9a66ecb9-dba7-4299-c042-5016f03cd139"
      },
      "execution_count": 5,
      "outputs": [
        {
          "output_type": "stream",
          "name": "stdout",
          "text": [
            "[[4 5 6]]\n",
            "(1, 3)\n"
          ]
        }
      ]
    },
    {
      "cell_type": "markdown",
      "source": [
        "## *Example 3 - Matrix*"
      ],
      "metadata": {
        "id": "9Kq3wDm2oF2G"
      }
    },
    {
      "cell_type": "code",
      "source": [
        "M = np.array([[1,2,3],[4,5,6],[7,8,9]])\n",
        "print(M)\n",
        "print(M.shape)"
      ],
      "metadata": {
        "colab": {
          "base_uri": "https://localhost:8080/"
        },
        "id": "gM2djPNdoOkO",
        "outputId": "6e8c2866-09df-4911-fd8a-e32da22e5d35"
      },
      "execution_count": null,
      "outputs": [
        {
          "output_type": "stream",
          "name": "stdout",
          "text": [
            "[[1 2 3]\n",
            " [4 5 6]\n",
            " [7 8 9]]\n",
            "(3, 3)\n"
          ]
        }
      ]
    },
    {
      "cell_type": "code",
      "source": [
        "# nice trick \n",
        "\n",
        "nr, nc = M.shape "
      ],
      "metadata": {
        "id": "U5E__Vu_olKE"
      },
      "execution_count": null,
      "outputs": []
    },
    {
      "cell_type": "markdown",
      "source": [
        "# 2.3. Sciling \n",
        "\n",
        "The access one sveral elements of the object."
      ],
      "metadata": {
        "id": "iC5WIkQIpQXP"
      }
    },
    {
      "cell_type": "code",
      "source": [
        "# Extract the first element\n",
        "\n",
        "## Column vector \n",
        "print(a[0,0])\n",
        "\n",
        "## Row vector \n",
        "print(b[0,0])\n",
        "\n",
        "## Matrix\n",
        "print(M,[0,0])\n"
      ],
      "metadata": {
        "colab": {
          "base_uri": "https://localhost:8080/"
        },
        "id": "LKmK4GXjpBuf",
        "outputId": "a34e74f7-b7cb-42ff-f21d-d1e017c57ecf"
      },
      "execution_count": null,
      "outputs": [
        {
          "output_type": "stream",
          "name": "stdout",
          "text": [
            "1\n",
            "2\n"
          ]
        }
      ]
    },
    {
      "cell_type": "code",
      "source": [
        "# Extract the last element\n",
        "\n",
        "## Column vector \n",
        "print(a[-1,0])\n",
        "\n",
        "## Row vector \n",
        "print(b[0,-1])\n",
        "\n",
        "## Matrix\n",
        "print(M,[-1,-1])"
      ],
      "metadata": {
        "id": "euWnniwuqPR0"
      },
      "execution_count": null,
      "outputs": []
    },
    {
      "cell_type": "code",
      "source": [
        "# Extract a subset\n",
        "\n",
        "## Column vector \n",
        "print(a[0:2])\n",
        "\n",
        "## Row vector \n",
        "print(b[0,0:2])\n",
        "\n",
        "## Matrix\n",
        "print(M,[0:2,0:2])\n",
        "\n"
      ],
      "metadata": {
        "colab": {
          "base_uri": "https://localhost:8080/"
        },
        "id": "WVzJTTN-rpQw",
        "outputId": "4c484036-dbc8-4dfc-d7ce-fc3144c033ce"
      },
      "execution_count": null,
      "outputs": [
        {
          "output_type": "stream",
          "name": "stdout",
          "text": [
            "[[1]\n",
            " [2]]\n"
          ]
        }
      ]
    },
    {
      "cell_type": "markdown",
      "source": [
        "# 2.4. Methods"
      ],
      "metadata": {
        "id": "lMa-XYeis3Pu"
      }
    },
    {
      "cell_type": "code",
      "source": [
        "# ZEROS\n",
        "\n",
        "z1 = np.zeros(4)\n",
        "print(z1)\n",
        "\n",
        "z2 = np.zeros((3,2))\n",
        "print(z2)"
      ],
      "metadata": {
        "colab": {
          "base_uri": "https://localhost:8080/"
        },
        "id": "C6xjlhkesDme",
        "outputId": "126071cf-85b5-41c4-fb34-3fa5033b2d93"
      },
      "execution_count": null,
      "outputs": [
        {
          "output_type": "stream",
          "name": "stdout",
          "text": [
            "[0. 0. 0. 0.]\n",
            "[[0. 0.]\n",
            " [0. 0.]\n",
            " [0. 0.]]\n"
          ]
        }
      ]
    },
    {
      "cell_type": "code",
      "source": [
        "# ONES\n",
        "\n",
        "o1 = np.ones(4)\n",
        "print(o1)\n",
        "\n",
        "o2 = np.ones((3,2))\n",
        "print(o2)\n",
        "\n",
        "o2*5"
      ],
      "metadata": {
        "colab": {
          "base_uri": "https://localhost:8080/"
        },
        "id": "CSgZeGSdtmzx",
        "outputId": "65dac43b-11aa-4610-b2f2-5694b3a59104"
      },
      "execution_count": null,
      "outputs": [
        {
          "output_type": "stream",
          "name": "stdout",
          "text": [
            "[1. 1. 1. 1.]\n",
            "[[1. 1.]\n",
            " [1. 1.]\n",
            " [1. 1.]]\n"
          ]
        },
        {
          "output_type": "execute_result",
          "data": {
            "text/plain": [
              "array([[5., 5.],\n",
              "       [5., 5.],\n",
              "       [5., 5.]])"
            ]
          },
          "metadata": {},
          "execution_count": 18
        }
      ]
    },
    {
      "cell_type": "markdown",
      "source": [
        "**ANOTHER CREATION OPTIONS**"
      ],
      "metadata": {
        "id": "Z2HbxVelvR0O"
      }
    },
    {
      "cell_type": "code",
      "source": [
        "# Full \n",
        "\n",
        "f = np.full((3,2),3.55565)\n",
        "print(f)"
      ],
      "metadata": {
        "colab": {
          "base_uri": "https://localhost:8080/"
        },
        "id": "QLuNZ52BvbwV",
        "outputId": "bf7294b1-c329-4fd2-bde2-34b0940f5315"
      },
      "execution_count": null,
      "outputs": [
        {
          "output_type": "stream",
          "name": "stdout",
          "text": [
            "[[3.55565 3.55565]\n",
            " [3.55565 3.55565]\n",
            " [3.55565 3.55565]]\n"
          ]
        }
      ]
    },
    {
      "cell_type": "code",
      "source": [
        "# Linear sequence\n",
        "\n",
        "np.arange(6)\n",
        "np.arange(23,33)\n",
        "np.arange(23,33,0.5)"
      ],
      "metadata": {
        "colab": {
          "base_uri": "https://localhost:8080/"
        },
        "id": "Lj8LHubNvp-5",
        "outputId": "7ef2ec83-3f83-4672-9a1b-259d0ba21667"
      },
      "execution_count": null,
      "outputs": [
        {
          "output_type": "execute_result",
          "data": {
            "text/plain": [
              "array([23. , 23.5, 24. , 24.5, 25. , 25.5, 26. , 26.5, 27. , 27.5, 28. ,\n",
              "       28.5, 29. , 29.5, 30. , 30.5, 31. , 31.5, 32. , 32.5])"
            ]
          },
          "metadata": {},
          "execution_count": 24
        }
      ]
    },
    {
      "cell_type": "code",
      "source": [
        "# Linear space \n",
        "\n",
        "np.linspace(15,90,6)"
      ],
      "metadata": {
        "colab": {
          "base_uri": "https://localhost:8080/"
        },
        "id": "aassYjGewjPr",
        "outputId": "7ecb6e34-6677-4146-b4cd-a3e4b622e3b8"
      },
      "execution_count": null,
      "outputs": [
        {
          "output_type": "execute_result",
          "data": {
            "text/plain": [
              "array([15., 30., 45., 60., 75., 90.])"
            ]
          },
          "metadata": {},
          "execution_count": 25
        }
      ]
    },
    {
      "cell_type": "markdown",
      "source": [
        "## 2.5. Random Numbers\n"
      ],
      "metadata": {
        "id": "R853DbVxx9hl"
      }
    },
    {
      "cell_type": "code",
      "source": [
        "# A single Value - between 0 y 1\n",
        "\n",
        "np.random.seed(1234) \n",
        "np.random.rand()"
      ],
      "metadata": {
        "colab": {
          "base_uri": "https://localhost:8080/"
        },
        "id": "jtMJe5hhybsC",
        "outputId": "c4c21a73-f520-40b4-998f-98f850dcf550"
      },
      "execution_count": null,
      "outputs": [
        {
          "output_type": "execute_result",
          "data": {
            "text/plain": [
              "0.1915194503788923"
            ]
          },
          "metadata": {},
          "execution_count": 29
        }
      ]
    },
    {
      "cell_type": "code",
      "source": [
        "# Example - toss a coin \n",
        "\n",
        "if np.random.rand() < 0.5:\n",
        "   print('head')\n",
        "else:\n",
        "     print('tails')"
      ],
      "metadata": {
        "colab": {
          "base_uri": "https://localhost:8080/"
        },
        "id": "pqSwLFkCyoNy",
        "outputId": "d3c88fad-7cfc-4607-ba07-e6037ef358f0"
      },
      "execution_count": null,
      "outputs": [
        {
          "output_type": "stream",
          "name": "stdout",
          "text": [
            "tails\n"
          ]
        }
      ]
    },
    {
      "cell_type": "code",
      "source": [
        "# you win if you get two heads\n",
        "if np.random.rand() < 0.25:\n",
        "   print('you win!')\n",
        "else:\n",
        "     print('you lose!')"
      ],
      "metadata": {
        "colab": {
          "base_uri": "https://localhost:8080/"
        },
        "id": "ntJ2cGCd1F3o",
        "outputId": "eb4fdac5-9e87-4416-a686-db0fc07235dc"
      },
      "execution_count": null,
      "outputs": [
        {
          "output_type": "stream",
          "name": "stdout",
          "text": [
            "you lose!\n"
          ]
        }
      ]
    },
    {
      "cell_type": "code",
      "source": [
        "# Two heads in a row\n",
        "\n",
        "ft = np.random.rand()\n",
        "if ft < 0.5:\n",
        "   print('the first toss was head')\n",
        "else:\n",
        "     print('the first toss was tails')\n",
        "\n",
        "st = np.random.rand()\n",
        "if st < 0.5:\n",
        "   print('the second toss was head')\n",
        "else:\n",
        "     print('the second toss was tails')\n",
        "\n",
        "if ft < 0.5 and st < 0.5:\n",
        "  print('you win!')\n",
        "else:\n",
        "  print('you lose!')\n"
      ],
      "metadata": {
        "colab": {
          "base_uri": "https://localhost:8080/"
        },
        "id": "2Cp2shFw4_gD",
        "outputId": "ec0e539e-e6e2-409f-c47d-bb510aa9bca7"
      },
      "execution_count": null,
      "outputs": [
        {
          "output_type": "stream",
          "name": "stdout",
          "text": [
            "the first toss was head\n",
            "the second toss was head\n",
            "you win!\n"
          ]
        }
      ]
    },
    {
      "cell_type": "code",
      "source": [],
      "metadata": {
        "id": "AhgRNTHq5uLH"
      },
      "execution_count": null,
      "outputs": []
    }
  ]
}